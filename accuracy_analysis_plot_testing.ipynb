{
  "cells": [
    {
      "cell_type": "markdown",
      "metadata": {
        "id": "view-in-github",
        "colab_type": "text"
      },
      "source": [
        "<a href=\"https://colab.research.google.com/github/wildlifeai/spyfish_analysis/blob/main/accuracy_analysis_plot_testing.ipynb\" target=\"_parent\"><img src=\"https://colab.research.google.com/assets/colab-badge.svg\" alt=\"Open In Colab\"/></a>"
      ]
    },
    {
      "cell_type": "markdown",
      "source": [
        "# Load r version for notebook"
      ],
      "metadata": {
        "id": "Vv3tYTMJQchR"
      },
      "id": "Vv3tYTMJQchR"
    },
    {
      "cell_type": "code",
      "source": [
        "%load_ext rpy2.ipython"
      ],
      "metadata": {
        "id": "fZK-9QSEQhtG"
      },
      "id": "fZK-9QSEQhtG",
      "execution_count": 1,
      "outputs": []
    },
    {
      "cell_type": "markdown",
      "metadata": {
        "id": "42a14256-91c8-446e-92a7-ab6bf11055d3"
      },
      "source": [
        "# Testing out plots\n",
        "\n",
        "Here are some potential drafts of plots I thought could illustrate the\n",
        "accuracy of the citizen science data in a cool way"
      ],
      "id": "42a14256-91c8-446e-92a7-ab6bf11055d3"
    },
    {
      "cell_type": "code",
      "source": [
        "%%R\n",
        "library(dplyr)\n",
        "library(ggplot2)\n",
        "\n",
        "#Made up data to test\n",
        "df <- data.frame(\n",
        "  volunteer_count = c(1, 2, 3, 4, 5, 6, 7, 8, 8),\n",
        "  biologist_count = c(1, 2, 3, 4, 5, 6, 7, 7, 8),\n",
        "  volunteer_ID = c(\"blue cod\", \"snapper\", \"snapper\", \"scarlet wrasse\", \"blue cod\", \"scarlet wrasse\", \"snapper\", \"blue cod\", \"blue cod\"),\n",
        "  biologist_ID = c(\"blue cod\", \"snapper\", \"scarlet wrasse\", \"snapper\", \"scarlet wrasse\", \"scarlet wrasse\", \"blue cod\", \"snapper\", \"blue cod\")\n",
        ")\n",
        "\n",
        "#Function to assign color based on conditions\n",
        "assign_color <- function(df) {\n",
        "  ifelse(df$volunteer_count == df$biologist_count & df$volunteer_ID == df$biologist_ID, \"green\",\n",
        "         ifelse(df$volunteer_count == df$biologist_count, \"orange\",\n",
        "                ifelse(df$volunteer_ID == df$biologist_ID, \"yellow\", \"red\")))\n",
        "}\n",
        "\n",
        "#Create a new column for color assignment\n",
        "df <- df %>%\n",
        "  mutate(color = assign_color(.))\n",
        "\n",
        "# Plot the grid\n",
        "ggplot(df, aes(x = volunteer_count, y = biologist_count, fill = color)) +\n",
        "  geom_tile(color = \"black\") +\n",
        "  scale_fill_manual(values = c(\"green\", \"orange\", \"yellow\", \"red\")) +\n",
        "  theme_minimal() +\n",
        "  labs(x = \"Volunteer Count\", y = \"Biologist Count\")\n"
      ],
      "metadata": {
        "colab": {
          "base_uri": "https://localhost:8080/",
          "height": 740
        },
        "id": "qoak0sr_QKYD",
        "outputId": "ab53fc18-d8b0-4d76-b8ac-cd655c9e8c34"
      },
      "id": "qoak0sr_QKYD",
      "execution_count": 2,
      "outputs": [
        {
          "output_type": "stream",
          "name": "stderr",
          "text": [
            "WARNING:rpy2.rinterface_lib.callbacks:R[write to console]: \n",
            "Attaching package: ‘dplyr’\n",
            "\n",
            "\n",
            "WARNING:rpy2.rinterface_lib.callbacks:R[write to console]: The following objects are masked from ‘package:stats’:\n",
            "\n",
            "    filter, lag\n",
            "\n",
            "\n",
            "WARNING:rpy2.rinterface_lib.callbacks:R[write to console]: The following objects are masked from ‘package:base’:\n",
            "\n",
            "    intersect, setdiff, setequal, union\n",
            "\n",
            "\n"
          ]
        },
        {
          "output_type": "display_data",
          "data": {
            "image/png": "[encoded data removed]"
          },
          "metadata": {}
        }
      ]
    },
    {
      "cell_type": "code",
      "source": [
        "%%R\n",
        "# Another plot\n",
        "library(ggplot2)\n",
        "library(dplyr)\n",
        "library(tidyr)\n",
        "\n",
        "#Made up data to test\n",
        "df <- data.frame(\n",
        "  volunteer_count = c(1, 2, 3, 4, 5, 6, 7, 8, 8),\n",
        "  biologist_count = c(1, 2, 3, 4, 5, 6, 7, 7, 8),\n",
        "  volunteer_ID = c(\"blue cod\", \"snapper\", \"snapper\", \"scarlet wrasse\", \"blue cod\", \"scarlet wrasse\", \"snapper\", \"blue cod\", \"blue cod\"),\n",
        "  biologist_ID = c(\"blue cod\", \"snapper\", \"scarlet wrasse\", \"snapper\", \"scarlet wrasse\", \"scarlet wrasse\", \"blue cod\", \"snapper\", \"blue cod\")\n",
        ")\n",
        "\n",
        "#Create a grid of the counts\n",
        "df_grid <- df %>%\n",
        "  group_by(volunteer_ID, biologist_ID) %>%\n",
        "  summarize(volunteer_count = first(volunteer_count), biologist_count = first(biologist_count))\n",
        "\n",
        "#Function to assign color based on conditions\n",
        "assign_color <- function(df) {\n",
        "  if (df[[\"volunteer_count\"]] == df[[\"biologist_count\"]] && df[[\"volunteer_ID\"]] == df[[\"biologist_ID\"]]) {\n",
        "    return(\"green\")\n",
        "  } else if (df[[\"volunteer_ID\"]] == df[[\"biologist_ID\"]]) {\n",
        "    return(\"yellow\")\n",
        "  } else if (df[[\"volunteer_count\"]] == df[[\"biologist_count\"]]) {\n",
        "    return(\"orange\")\n",
        "  } else {\n",
        "    return(\"red\")\n",
        "  }\n",
        "}\n",
        "\n",
        "# Assign color based on conditions\n",
        "df_grid$color <- apply(df_grid, 1, assign_color)\n",
        "\n",
        "# Plot the grid\n",
        "ggplot(df_grid, aes(x = biologist_ID, y = volunteer_ID)) +\n",
        "  geom_tile(aes(fill = color), color = \"black\") +\n",
        "  scale_fill_manual(values = c(\"green\", \"yellow\", \"orange\", \"red\"),\n",
        "                    labels = c(\"Match\", \"ID match only\", \"Count match only\", \"Mismatch\"),\n",
        "                    guide = guide_legend()) +\n",
        "  geom_text(aes(label = volunteer_count), color = \"black\") +\n",
        "  theme_minimal() +\n",
        "  labs(x = \"Biologist ID\", y = \"Volunteer ID\")"
      ],
      "metadata": {
        "colab": {
          "base_uri": "https://localhost:8080/",
          "height": 532
        },
        "id": "7MSW9B1fQOmv",
        "outputId": "673afca0-0eee-49dc-9167-0d768d8d42bc"
      },
      "id": "7MSW9B1fQOmv",
      "execution_count": 3,
      "outputs": [
        {
          "output_type": "stream",
          "name": "stdout",
          "text": [
            "`summarise()` has grouped output by 'volunteer_ID'. You can override using the\n",
            "`.groups` argument.\n"
          ]
        },
        {
          "output_type": "display_data",
          "data": {
            "image/png": "[encoded data removed]"
          },
          "metadata": {}
        }
      ]
    },
    {
      "cell_type": "markdown",
      "source": [
        "Hmm but there are a few of each - this would work for one\n",
        "video/deployment at a time where there wouldn’t be double ups of\n",
        "species. Could do a big grid of 30 blocks of these for all the videos -\n",
        "hmm but probs different species. But this kind of plot is good."
      ],
      "metadata": {
        "id": "-MKg2KshQTfU"
      },
      "id": "-MKg2KshQTfU"
    }
  ],
  "nbformat": 4,
  "nbformat_minor": 5,
  "metadata": {
    "colab": {
      "provenance": [],
      "include_colab_link": true
    },
    "language_info": {
      "name": "python"
    },
    "kernelspec": {
      "name": "python3",
      "display_name": "Python 3"
    }
  }
}