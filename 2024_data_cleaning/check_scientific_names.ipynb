{
 "cells": [
  {
   "cell_type": "markdown",
   "id": "32f0b6f0",
   "metadata": {
    "toc": true
   },
   "source": [
    "<h1>Table of Contents<span class=\"tocSkip\"></span></h1>\n",
    "<div class=\"toc\"><ul class=\"toc-item\"><li><span><a href=\"#Scientific-Names-Validity-Review\" data-toc-modified-id=\"Scientific-Names-Validity-Review-1\"><span class=\"toc-item-num\">1&nbsp;&nbsp;</span>Scientific Names Validity Review</a></span><ul class=\"toc-item\"><li><span><a href=\"#Chose-excel-file-containing-the-scientific-names-to-check\" data-toc-modified-id=\"Chose-excel-file-containing-the-scientific-names-to-check-1.1\"><span class=\"toc-item-num\">1.1&nbsp;&nbsp;</span>Chose excel file containing the scientific names to check</a></span></li><li><span><a href=\"#Small-test-df\" data-toc-modified-id=\"Small-test-df-1.2\"><span class=\"toc-item-num\">1.2&nbsp;&nbsp;</span>Small test df</a></span></li><li><span><a href=\"#Check-each-of-the-scientific-names\" data-toc-modified-id=\"Check-each-of-the-scientific-names-1.3\"><span class=\"toc-item-num\">1.3&nbsp;&nbsp;</span>Check each of the scientific names</a></span></li><li><span><a href=\"#run-the-name-checker-on-each-row\" data-toc-modified-id=\"run-the-name-checker-on-each-row-1.4\"><span class=\"toc-item-num\">1.4&nbsp;&nbsp;</span>run the name checker on each row</a></span></li></ul></li><li><span><a href=\"#run-the-name-checker-on-the-whole-dataframe\" data-toc-modified-id=\"run-the-name-checker-on-the-whole-dataframe-2\"><span class=\"toc-item-num\">2&nbsp;&nbsp;</span>run the name checker on the whole dataframe</a></span></li><li><span><a href=\"#TODOs-and-Extras:\" data-toc-modified-id=\"TODOs-and-Extras:-3\"><span class=\"toc-item-num\">3&nbsp;&nbsp;</span>TODOs and Extras:</a></span><ul class=\"toc-item\"><li><span><a href=\"#potential-todos\" data-toc-modified-id=\"potential-todos-3.1\"><span class=\"toc-item-num\">3.1&nbsp;&nbsp;</span>potential todos</a></span></li><li><span><a href=\"#print-WoRMS-suggestions\" data-toc-modified-id=\"print-WoRMS-suggestions-3.2\"><span class=\"toc-item-num\">3.2&nbsp;&nbsp;</span>print WoRMS suggestions</a></span></li><li><span><a href=\"#Example-API-return\" data-toc-modified-id=\"Example-API-return-3.3\"><span class=\"toc-item-num\">3.3&nbsp;&nbsp;</span>Example API return</a></span></li></ul></li></ul></div>"
   ]
  },
  {
   "cell_type": "code",
   "execution_count": null,
   "id": "e13aaaf7",
   "metadata": {},
   "outputs": [],
   "source": [
    "# Last changed 2024.12.11"
   ]
  },
  {
   "cell_type": "markdown",
   "id": "1e09ad60",
   "metadata": {},
   "source": [
    "# Scientific Names Validity Review\n",
    "\n",
    "This notebooks is part of the 2024 Spyfish data cleaning process and it reviews the validity of species scientific names in a given column of an Excel sheet. \n",
    "\n",
    "The checks are performed with calls to the [WoRMS API](https://www.marinespecies.org/rest/AphiaRecordsByName).\n",
    "\n",
    "\n",
    "The output of this notebook creates a data frame containing 2 columns, the given scientific name, and the response from WoRMS:\n",
    "- _exact_: the given scientific name is valid according to the WoRMS API\n",
    "- _Alternative name_: a new matched name, if the previous one is deprecated or not accepted\n",
    "- _False_: if there is no match.\n"
   ]
  },
  {
   "cell_type": "code",
   "execution_count": 3,
   "id": "12dcaf71-cfc0-46a8-85ec-daafffc60922",
   "metadata": {},
   "outputs": [],
   "source": [
    "import requests\n",
    "import pandas as pd\n",
    "\n",
    "from ipyfilechooser import FileChooser\n",
    "from IPython.display import display\n"
   ]
  },
  {
   "cell_type": "markdown",
   "id": "e6117ded",
   "metadata": {},
   "source": [
    "## Chose excel file containing the scientific names to check"
   ]
  },
  {
   "cell_type": "code",
   "execution_count": null,
   "id": "a8e6d48d-fbd0-448f-ba1b-ec228018eab5",
   "metadata": {
    "scrolled": false
   },
   "outputs": [],
   "source": [
    "file_chooser = FileChooser(title='<b>Select the Excel file containing scientfic names</b>')\n",
    "display(file_chooser)"
   ]
  },
  {
   "cell_type": "code",
   "execution_count": null,
   "id": "c4a818c5-a462-4697-a413-7878d5b4f7fe",
   "metadata": {},
   "outputs": [],
   "source": [
    "scientific_names_file = file_chooser.selected\n",
    "assert scientific_names_file != None, \"Select the file containing the scientific names in the cell above.\"\n",
    "\n",
    "print(f\"The scientific_names_file is {scientific_names_file}\")\n",
    "# The next call assumes there is one sheet in the file or the relevant sheet is first. \n",
    "# If it's not, add it as a parameter.\n",
    "sheet_df = pd.read_excel(scientific_names_file)\n",
    "\n",
    "# If the column name containing scientfic names is not called ScientificName replace with column name\n",
    "sheet_df = sheet_df[[\"ScientificName\"]]"
   ]
  },
  {
   "cell_type": "code",
   "execution_count": null,
   "id": "044ffdf5",
   "metadata": {},
   "outputs": [],
   "source": [
    "sheet_df.sample(10)"
   ]
  },
  {
   "cell_type": "markdown",
   "id": "4b2ae123",
   "metadata": {},
   "source": [
    "## Small test df\n",
    "To use for testing etc in order to avoid 160 API calls"
   ]
  },
  {
   "cell_type": "code",
   "execution_count": 6,
   "id": "d3603a87",
   "metadata": {},
   "outputs": [
    {
     "data": {
      "text/html": [
       "<div>\n",
       "<style scoped>\n",
       "    .dataframe tbody tr th:only-of-type {\n",
       "        vertical-align: middle;\n",
       "    }\n",
       "\n",
       "    .dataframe tbody tr th {\n",
       "        vertical-align: top;\n",
       "    }\n",
       "\n",
       "    .dataframe thead th {\n",
       "        text-align: right;\n",
       "    }\n",
       "</style>\n",
       "<table border=\"1\" class=\"dataframe\">\n",
       "  <thead>\n",
       "    <tr style=\"text-align: right;\">\n",
       "      <th></th>\n",
       "      <th>ScientificName</th>\n",
       "    </tr>\n",
       "  </thead>\n",
       "  <tbody>\n",
       "    <tr>\n",
       "      <th>0</th>\n",
       "      <td>Kathetostoma giganteum</td>\n",
       "    </tr>\n",
       "    <tr>\n",
       "      <th>1</th>\n",
       "      <td>Kathetostoma giganteu</td>\n",
       "    </tr>\n",
       "    <tr>\n",
       "      <th>2</th>\n",
       "      <td>Cephaloscyllium isabellum</td>\n",
       "    </tr>\n",
       "    <tr>\n",
       "      <th>3</th>\n",
       "      <td>Triglidae sp</td>\n",
       "    </tr>\n",
       "    <tr>\n",
       "      <th>4</th>\n",
       "      <td>Blennioidei sp</td>\n",
       "    </tr>\n",
       "  </tbody>\n",
       "</table>\n",
       "</div>"
      ],
      "text/plain": [
       "              ScientificName\n",
       "0     Kathetostoma giganteum\n",
       "1      Kathetostoma giganteu\n",
       "2  Cephaloscyllium isabellum\n",
       "3               Triglidae sp\n",
       "4             Blennioidei sp"
      ]
     },
     "execution_count": 6,
     "metadata": {},
     "output_type": "execute_result"
    }
   ],
   "source": [
    "sheet_df = pd.DataFrame(['Kathetostoma giganteum', # correct\n",
    "                                    'Kathetostoma giganteu', # typo\n",
    "                                    'Cephaloscyllium isabellum', # replaced by new nomenclature\n",
    "                                    'Triglidae sp', # only genus correct\n",
    "                                    'Blennioidei sp' # new nomenclature genus to fix\n",
    "                                   ], columns=[\"ScientificName\"])\n",
    "sheet_df"
   ]
  },
  {
   "cell_type": "code",
   "execution_count": 7,
   "id": "33939b4e-5313-4547-b3e3-188dfd3d88a6",
   "metadata": {},
   "outputs": [
    {
     "data": {
      "text/html": [
       "<div>\n",
       "<style scoped>\n",
       "    .dataframe tbody tr th:only-of-type {\n",
       "        vertical-align: middle;\n",
       "    }\n",
       "\n",
       "    .dataframe tbody tr th {\n",
       "        vertical-align: top;\n",
       "    }\n",
       "\n",
       "    .dataframe thead th {\n",
       "        text-align: right;\n",
       "    }\n",
       "</style>\n",
       "<table border=\"1\" class=\"dataframe\">\n",
       "  <thead>\n",
       "    <tr style=\"text-align: right;\">\n",
       "      <th></th>\n",
       "      <th>ScientificName</th>\n",
       "    </tr>\n",
       "  </thead>\n",
       "  <tbody>\n",
       "    <tr>\n",
       "      <th>0</th>\n",
       "      <td>Kathetostoma giganteum</td>\n",
       "    </tr>\n",
       "    <tr>\n",
       "      <th>1</th>\n",
       "      <td>Kathetostoma giganteu</td>\n",
       "    </tr>\n",
       "    <tr>\n",
       "      <th>2</th>\n",
       "      <td>Cephaloscyllium isabellum</td>\n",
       "    </tr>\n",
       "    <tr>\n",
       "      <th>3</th>\n",
       "      <td>Triglidae sp</td>\n",
       "    </tr>\n",
       "    <tr>\n",
       "      <th>4</th>\n",
       "      <td>Blennioidei sp</td>\n",
       "    </tr>\n",
       "  </tbody>\n",
       "</table>\n",
       "</div>"
      ],
      "text/plain": [
       "              ScientificName\n",
       "0     Kathetostoma giganteum\n",
       "1      Kathetostoma giganteu\n",
       "2  Cephaloscyllium isabellum\n",
       "3               Triglidae sp\n",
       "4             Blennioidei sp"
      ]
     },
     "execution_count": 7,
     "metadata": {},
     "output_type": "execute_result"
    }
   ],
   "source": [
    "scientific_names_df = sheet_df.copy()\n",
    "scientific_names_df"
   ]
  },
  {
   "cell_type": "markdown",
   "id": "3bc595b1",
   "metadata": {},
   "source": [
    "## Check each of the scientific names \n",
    "\n"
   ]
  },
  {
   "cell_type": "code",
   "execution_count": 16,
   "id": "b9c0be55-0ced-46c1-8105-3fb2df12f1b7",
   "metadata": {},
   "outputs": [],
   "source": [
    "def check_name(scientific_name):\n",
    "    print(f\"Checking {scientific_name}\")\n",
    "    \n",
    "    genus = False\n",
    "    if scientific_name.endswith(\"sp\"):\n",
    "        scientific_name = scientific_name.split()[0]\n",
    "        genus = True\n",
    "            \n",
    "    url = f\"https://www.marinespecies.org/rest/AphiaRecordsByName/{scientific_name}?like=false&marine_only=true&offset=1\"     \n",
    "    response = requests.get(url)\n",
    "    response.raise_for_status()  \n",
    "    accepted = False\n",
    "    if response.status_code == 200:\n",
    "        response_json = response.json()[0]\n",
    "        if response_json[\"status\"] == 'accepted':\n",
    "            if response_json[\"scientificname\"] != scientific_name: \n",
    "                print(f\"Names don't match: {response_json['scientificname']}: {scientific_name}\" )\n",
    "            accepted = response_json[\"match_type\"]\n",
    "        else: \n",
    "            accepted = response_json['valid_name']\n",
    "            if genus:\n",
    "                accepted = f\"{accepted} sp\"\n",
    "        print(f\"{scientific_name} was processed, match: {accepted}\")\n",
    "    else: \n",
    "        print(f\"{scientific_name} was not processed, more info:\\n{response.content}\")\n",
    "    return accepted\n",
    "    "
   ]
  },
  {
   "cell_type": "markdown",
   "id": "87f699ba",
   "metadata": {},
   "source": [
    "## run the name checker on each row \n"
   ]
  },
  {
   "cell_type": "code",
   "execution_count": 17,
   "id": "f425d7f0-7e1f-4a7f-8885-04445df11c72",
   "metadata": {},
   "outputs": [],
   "source": [
    "def check_scientific_names(scientific_names_df, column_scientific_names=\"ScientificName\"):\n",
    "    scientific_names_df[\"WoRMSScientificNameMatch\"] = scientific_names_df[column_scientific_names].apply(check_name)\n",
    "    return scientific_names_df\n"
   ]
  },
  {
   "cell_type": "markdown",
   "id": "348b718f",
   "metadata": {},
   "source": [
    "# run the name checker on the whole dataframe\n"
   ]
  },
  {
   "cell_type": "code",
   "execution_count": 18,
   "id": "cf2ef9d1-7021-4f82-8ede-412b95f59015",
   "metadata": {
    "scrolled": true
   },
   "outputs": [
    {
     "name": "stdout",
     "output_type": "stream",
     "text": [
      "Checking Kathetostoma giganteum\n",
      "Kathetostoma giganteum was processed, match: exact\n",
      "Checking Kathetostoma giganteu\n",
      "Kathetostoma giganteu was not processed, more info:\n",
      "b''\n",
      "Checking Cephaloscyllium isabellum\n",
      "Cephaloscyllium isabellum was processed, match: Cephaloscyllium isabella\n",
      "Checking Triglidae sp\n",
      "Triglidae was processed, match: exact\n",
      "Checking Blennioidei sp\n",
      "Blennioidei was processed, match: Blenniiformes sp\n"
     ]
    },
    {
     "data": {
      "text/html": [
       "<div>\n",
       "<style scoped>\n",
       "    .dataframe tbody tr th:only-of-type {\n",
       "        vertical-align: middle;\n",
       "    }\n",
       "\n",
       "    .dataframe tbody tr th {\n",
       "        vertical-align: top;\n",
       "    }\n",
       "\n",
       "    .dataframe thead th {\n",
       "        text-align: right;\n",
       "    }\n",
       "</style>\n",
       "<table border=\"1\" class=\"dataframe\">\n",
       "  <thead>\n",
       "    <tr style=\"text-align: right;\">\n",
       "      <th></th>\n",
       "      <th>ScientificName</th>\n",
       "      <th>WoRMSScientificNameMatch</th>\n",
       "    </tr>\n",
       "  </thead>\n",
       "  <tbody>\n",
       "    <tr>\n",
       "      <th>0</th>\n",
       "      <td>Kathetostoma giganteum</td>\n",
       "      <td>exact</td>\n",
       "    </tr>\n",
       "    <tr>\n",
       "      <th>1</th>\n",
       "      <td>Kathetostoma giganteu</td>\n",
       "      <td>False</td>\n",
       "    </tr>\n",
       "    <tr>\n",
       "      <th>2</th>\n",
       "      <td>Cephaloscyllium isabellum</td>\n",
       "      <td>Cephaloscyllium isabella</td>\n",
       "    </tr>\n",
       "    <tr>\n",
       "      <th>3</th>\n",
       "      <td>Triglidae sp</td>\n",
       "      <td>exact</td>\n",
       "    </tr>\n",
       "    <tr>\n",
       "      <th>4</th>\n",
       "      <td>Blennioidei sp</td>\n",
       "      <td>Blenniiformes sp</td>\n",
       "    </tr>\n",
       "  </tbody>\n",
       "</table>\n",
       "</div>"
      ],
      "text/plain": [
       "              ScientificName  WoRMSScientificNameMatch\n",
       "0     Kathetostoma giganteum                     exact\n",
       "1      Kathetostoma giganteu                     False\n",
       "2  Cephaloscyllium isabellum  Cephaloscyllium isabella\n",
       "3               Triglidae sp                     exact\n",
       "4             Blennioidei sp          Blenniiformes sp"
      ]
     },
     "execution_count": 18,
     "metadata": {},
     "output_type": "execute_result"
    }
   ],
   "source": [
    "check_scientific_names(scientific_names_df)"
   ]
  },
  {
   "cell_type": "code",
   "execution_count": 20,
   "id": "d1722ebd-5084-4eca-8a43-cb4af9cbecde",
   "metadata": {},
   "outputs": [
    {
     "name": "stdout",
     "output_type": "stream",
     "text": [
      "Missing names n:  2\n"
     ]
    },
    {
     "data": {
      "text/html": [
       "<div>\n",
       "<style scoped>\n",
       "    .dataframe tbody tr th:only-of-type {\n",
       "        vertical-align: middle;\n",
       "    }\n",
       "\n",
       "    .dataframe tbody tr th {\n",
       "        vertical-align: top;\n",
       "    }\n",
       "\n",
       "    .dataframe thead th {\n",
       "        text-align: right;\n",
       "    }\n",
       "</style>\n",
       "<table border=\"1\" class=\"dataframe\">\n",
       "  <thead>\n",
       "    <tr style=\"text-align: right;\">\n",
       "      <th></th>\n",
       "      <th>ScientificName</th>\n",
       "      <th>WoRMSScientificNameMatch</th>\n",
       "    </tr>\n",
       "  </thead>\n",
       "  <tbody>\n",
       "    <tr>\n",
       "      <th>0</th>\n",
       "      <td>Kathetostoma giganteum</td>\n",
       "      <td>exact</td>\n",
       "    </tr>\n",
       "    <tr>\n",
       "      <th>3</th>\n",
       "      <td>Triglidae sp</td>\n",
       "      <td>exact</td>\n",
       "    </tr>\n",
       "  </tbody>\n",
       "</table>\n",
       "</div>"
      ],
      "text/plain": [
       "           ScientificName WoRMSScientificNameMatch\n",
       "0  Kathetostoma giganteum                    exact\n",
       "3            Triglidae sp                    exact"
      ]
     },
     "execution_count": 20,
     "metadata": {},
     "output_type": "execute_result"
    }
   ],
   "source": [
    "matching_names = scientific_names_df[scientific_names_df[\"WoRMSScientificNameMatch\"] == \"exact\"]\n",
    "print(\"Missing names n: \",len(matching_names))\n",
    "matching_names"
   ]
  },
  {
   "cell_type": "code",
   "execution_count": 21,
   "id": "2f56444b-5303-424c-9fe9-3e48d99f66e4",
   "metadata": {},
   "outputs": [
    {
     "name": "stdout",
     "output_type": "stream",
     "text": [
      "Wrong names n:  2\n"
     ]
    },
    {
     "data": {
      "text/html": [
       "<div>\n",
       "<style scoped>\n",
       "    .dataframe tbody tr th:only-of-type {\n",
       "        vertical-align: middle;\n",
       "    }\n",
       "\n",
       "    .dataframe tbody tr th {\n",
       "        vertical-align: top;\n",
       "    }\n",
       "\n",
       "    .dataframe thead th {\n",
       "        text-align: right;\n",
       "    }\n",
       "</style>\n",
       "<table border=\"1\" class=\"dataframe\">\n",
       "  <thead>\n",
       "    <tr style=\"text-align: right;\">\n",
       "      <th></th>\n",
       "      <th>ScientificName</th>\n",
       "      <th>WoRMSScientificNameMatch</th>\n",
       "    </tr>\n",
       "  </thead>\n",
       "  <tbody>\n",
       "    <tr>\n",
       "      <th>2</th>\n",
       "      <td>Cephaloscyllium isabellum</td>\n",
       "      <td>Cephaloscyllium isabella</td>\n",
       "    </tr>\n",
       "    <tr>\n",
       "      <th>4</th>\n",
       "      <td>Blennioidei sp</td>\n",
       "      <td>Blenniiformes sp</td>\n",
       "    </tr>\n",
       "  </tbody>\n",
       "</table>\n",
       "</div>"
      ],
      "text/plain": [
       "              ScientificName  WoRMSScientificNameMatch\n",
       "2  Cephaloscyllium isabellum  Cephaloscyllium isabella\n",
       "4             Blennioidei sp          Blenniiformes sp"
      ]
     },
     "execution_count": 21,
     "metadata": {},
     "output_type": "execute_result"
    }
   ],
   "source": [
    "wrong_names = scientific_names_df[(\n",
    "    scientific_names_df[\"WoRMSScientificNameMatch\"] != \"exact\") & (scientific_names_df[\"WoRMSScientificNameMatch\"] != False)]\n",
    "print(\"Wrong names n: \",len(wrong_names))\n",
    "wrong_names"
   ]
  },
  {
   "cell_type": "code",
   "execution_count": 22,
   "id": "9717074a-c76f-4aa8-abca-f41168b093f2",
   "metadata": {},
   "outputs": [
    {
     "name": "stdout",
     "output_type": "stream",
     "text": [
      "Missing names n:  1\n"
     ]
    },
    {
     "data": {
      "text/html": [
       "<div>\n",
       "<style scoped>\n",
       "    .dataframe tbody tr th:only-of-type {\n",
       "        vertical-align: middle;\n",
       "    }\n",
       "\n",
       "    .dataframe tbody tr th {\n",
       "        vertical-align: top;\n",
       "    }\n",
       "\n",
       "    .dataframe thead th {\n",
       "        text-align: right;\n",
       "    }\n",
       "</style>\n",
       "<table border=\"1\" class=\"dataframe\">\n",
       "  <thead>\n",
       "    <tr style=\"text-align: right;\">\n",
       "      <th></th>\n",
       "      <th>ScientificName</th>\n",
       "      <th>WoRMSScientificNameMatch</th>\n",
       "    </tr>\n",
       "  </thead>\n",
       "  <tbody>\n",
       "    <tr>\n",
       "      <th>1</th>\n",
       "      <td>Kathetostoma giganteu</td>\n",
       "      <td>False</td>\n",
       "    </tr>\n",
       "  </tbody>\n",
       "</table>\n",
       "</div>"
      ],
      "text/plain": [
       "          ScientificName WoRMSScientificNameMatch\n",
       "1  Kathetostoma giganteu                    False"
      ]
     },
     "execution_count": 22,
     "metadata": {},
     "output_type": "execute_result"
    }
   ],
   "source": [
    "missing_names = scientific_names_df[scientific_names_df[\"WoRMSScientificNameMatch\"] == False]\n",
    "print(\"Missing names n: \",len(missing_names))\n",
    "missing_names"
   ]
  },
  {
   "cell_type": "code",
   "execution_count": 23,
   "id": "132c7b62-eac0-4669-b9ef-9e176297a8e4",
   "metadata": {},
   "outputs": [],
   "source": [
    "# check if all scientific names accounted for? will flag errors\n",
    "\n",
    "total_processed = len(wrong_names) + len(missing_names) + len(matching_names)\n",
    "assert len(scientific_names_df) == total_processed, \"Check the names some other issue is happending\""
   ]
  },
  {
   "cell_type": "markdown",
   "id": "68ceaaea",
   "metadata": {},
   "source": [
    "# TODOs and Extras: "
   ]
  },
  {
   "cell_type": "markdown",
   "id": "e4063633",
   "metadata": {},
   "source": [
    "The above is not inserted manually into the original sheet, but it needs to be manually transferred.\n",
    "\n",
    "## potential todos\n",
    "\n",
    "- TODO: create export file, a standardized output of the species list to be used for the app drop down selection.\n",
    "- TODO(low): deal with the various scenarios: non perfect match/204/404\n"
   ]
  },
  {
   "cell_type": "markdown",
   "id": "1c1115fd",
   "metadata": {},
   "source": [
    "## print WoRMS suggestions"
   ]
  },
  {
   "cell_type": "code",
   "execution_count": null,
   "id": "48f0b3bb-1a2d-4892-bcf2-2e3c5e0cf072",
   "metadata": {},
   "outputs": [],
   "source": [
    "print(\"Scientific name in excel: WoRMS suggested name\")\n",
    "for i, row in wrong_names.iterrows():\n",
    "    print(f\"{row['ScientificName']}: {row['WoRMSScientificNameMatch']}\")"
   ]
  },
  {
   "cell_type": "markdown",
   "id": "b273d58c-f4ed-4829-8c82-d560fb1a07ac",
   "metadata": {},
   "source": [
    "## Example API return"
   ]
  },
  {
   "cell_type": "code",
   "execution_count": null,
   "id": "7e677441-dfd1-47a4-b7ba-2f91a9d1c4f8",
   "metadata": {},
   "outputs": [],
   "source": [
    "[\n",
    "  {\n",
    "    \"AphiaID\": 277101,\n",
    "    \"url\": \"https://www.marinespecies.org/aphia.php?p=taxdetails&id=277101\",\n",
    "    \"scientificname\": \"Cephaloscyllium isabellum\",\n",
    "    \"authority\": \"(Bonnaterre, 1788)\",\n",
    "    \"status\": \"unaccepted\",\n",
    "    \"unacceptreason\": null,\n",
    "    \"taxonRankID\": 220,\n",
    "    \"rank\": \"Species\",\n",
    "    \"valid_AphiaID\": 298238,\n",
    "    \"valid_name\": \"Cephaloscyllium isabella\",\n",
    "    \"valid_authority\": \"(Bonnaterre, 1788)\",\n",
    "    \"parentNameUsageID\": 204168,\n",
    "    \"kingdom\": \"Animalia\",\n",
    "    \"phylum\": \"Chordata\",\n",
    "    \"class\": \"Elasmobranchii\",\n",
    "    \"order\": \"Carcharhiniformes\",\n",
    "    \"family\": \"Scyliorhinidae\",\n",
    "    \"genus\": \"Cephaloscyllium\",\n",
    "    \"citation\": \"Froese, R. and D. Pauly. Editors. (2024). FishBase. Cephaloscyllium isabellum (Bonnaterre, 1788). Accessed through: World Register of Marine Species at: https://www.marinespecies.org/aphia.php?p=taxdetails&id=277101 on 2024-11-29\",\n",
    "    \"lsid\": \"urn:lsid:marinespecies.org:taxname:277101\",\n",
    "    \"isMarine\": 1,\n",
    "    \"isBrackish\": 0,\n",
    "    \"isFreshwater\": 0,\n",
    "    \"isTerrestrial\": 0,\n",
    "    \"isExtinct\": null,\n",
    "    \"match_type\": \"exact\",\n",
    "    \"modified\": \"2023-01-11T08:59:53.383Z\"\n",
    "  }"
   ]
  }
 ],
 "metadata": {
  "kernelspec": {
   "display_name": "Python 3 (ipykernel)",
   "language": "python",
   "name": "python3"
  },
  "language_info": {
   "codemirror_mode": {
    "name": "ipython",
    "version": 3
   },
   "file_extension": ".py",
   "mimetype": "text/x-python",
   "name": "python",
   "nbconvert_exporter": "python",
   "pygments_lexer": "ipython3",
   "version": "3.8.16"
  },
  "toc": {
   "base_numbering": 1,
   "nav_menu": {},
   "number_sections": true,
   "sideBar": true,
   "skip_h1_title": false,
   "title_cell": "Table of Contents",
   "title_sidebar": "Contents",
   "toc_cell": true,
   "toc_position": {},
   "toc_section_display": true,
   "toc_window_display": true
  }
 },
 "nbformat": 4,
 "nbformat_minor": 5
}
