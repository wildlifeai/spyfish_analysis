{
 "cells": [
  {
   "cell_type": "markdown",
   "id": "384b6593",
   "metadata": {
    "toc": true
   },
   "source": [
    "<h1>Table of Contents<span class=\"tocSkip\"></span></h1>\n",
    "<div class=\"toc\"><ul class=\"toc-item\"><li><span><a href=\"#Compare-SurveyIDs-across-2-files\" data-toc-modified-id=\"Compare-SurveyIDs-across-2-files-1\"><span class=\"toc-item-num\">1&nbsp;&nbsp;</span>Compare SurveyIDs across 2 files</a></span><ul class=\"toc-item\"><li><span><a href=\"#Select-files-to-compare\" data-toc-modified-id=\"Select-files-to-compare-1.1\"><span class=\"toc-item-num\">1.1&nbsp;&nbsp;</span>Select files to compare</a></span></li><li><span><a href=\"#Read-the-files-and-find-matching-SurveyIDs:\" data-toc-modified-id=\"Read-the-files-and-find-matching-SurveyIDs:-1.2\"><span class=\"toc-item-num\">1.2&nbsp;&nbsp;</span>Read the files and find matching SurveyIDs:</a></span></li></ul></li><li><span><a href=\"#Find-potential-pairs\" data-toc-modified-id=\"Find-potential-pairs-2\"><span class=\"toc-item-num\">2&nbsp;&nbsp;</span>Find potential pairs</a></span></li></ul></div>"
   ]
  },
  {
   "cell_type": "code",
   "execution_count": null,
   "id": "b876dcbb",
   "metadata": {},
   "outputs": [],
   "source": [
    "# Last changed 2024.12.11"
   ]
  },
  {
   "cell_type": "markdown",
   "id": "50132ca8-d351-4d2e-aa03-c3cd0d3b4ef8",
   "metadata": {},
   "source": [
    "# Compare SurveyIDs across 2 files\n",
    "\n",
    "This notebooks is part of the 2024 Spyfish data cleaning process and it checks, given two tabular files, which SurveyIDs are present in one or both files."
   ]
  },
  {
   "cell_type": "code",
   "execution_count": null,
   "id": "a997c800-ab9f-4023-a351-f9abd70dfa07",
   "metadata": {},
   "outputs": [],
   "source": [
    "import pandas as pd\n",
    "\n",
    "from collections import defaultdict\n",
    "from pprint import pprint\n",
    "from ipyfilechooser import FileChooser\n",
    "from IPython.display import display"
   ]
  },
  {
   "cell_type": "markdown",
   "id": "6e52bf52",
   "metadata": {},
   "source": [
    "## Select files to compare"
   ]
  },
  {
   "cell_type": "code",
   "execution_count": null,
   "id": "ea5cb23b-0e9d-42be-8d3b-8f70594a0503",
   "metadata": {},
   "outputs": [],
   "source": [
    "file_1_chooser = FileChooser(title='<b>Select the first file to compare:</b>')\n",
    "file_1_chooser.filter_pattern = ['*.csv', '*.xls*']\n",
    "display(file_1_chooser)\n"
   ]
  },
  {
   "cell_type": "code",
   "execution_count": null,
   "id": "0e07ab14-5712-4b10-88d2-0fc390ecd6f0",
   "metadata": {},
   "outputs": [],
   "source": [
    "file_path_1 = file_1_chooser.selected\n",
    "assert file_path_1 != None, \"Select file 1 in the cell above.\"\n",
    "file_path_1"
   ]
  },
  {
   "cell_type": "code",
   "execution_count": null,
   "id": "82081203-0066-4f5c-9446-c23f4c246f42",
   "metadata": {},
   "outputs": [],
   "source": [
    "file_2_chooser = FileChooser(title='<b>Select the second file to compare:</b>')\n",
    "file_2_chooser.filter_pattern = ['*.csv', '*.xls*']\n",
    "display(file_2_chooser)"
   ]
  },
  {
   "cell_type": "code",
   "execution_count": null,
   "id": "0ab33d48-3b3c-4d0f-bf8f-30b8ecf6caa3",
   "metadata": {},
   "outputs": [],
   "source": [
    "file_path_2 = file_2_chooser.selected\n",
    "assert file_path_2 != None, \"Select file 2 in the cell above.\"\n",
    "file_path_2"
   ]
  },
  {
   "cell_type": "markdown",
   "id": "bb957db1",
   "metadata": {},
   "source": [
    "## Read the files and find matching SurveyIDs:"
   ]
  },
  {
   "cell_type": "code",
   "execution_count": null,
   "id": "e8f96c3b",
   "metadata": {},
   "outputs": [],
   "source": [
    "# this assumes the column containinc SurveyIDs is called SurveyID\n",
    "def get_df_surveyIDs(file_path):\n",
    "    if file_path.endswith(\".csv\"):\n",
    "        df = pd.read_csv(file_path)\n",
    "    else:\n",
    "        df = pd.read_excel(file_path)\n",
    "    return df[\"SurveyID\"].dropna()"
   ]
  },
  {
   "cell_type": "code",
   "execution_count": null,
   "id": "c617378b-098e-41b4-9e8f-cb92f71f27b7",
   "metadata": {
    "scrolled": true
   },
   "outputs": [],
   "source": [
    "def find_matching_surveyIDs(file_path_1, file_path_2):\n",
    "    \"\"\"Returns a dictionary with 3 entries: \n",
    "        common: a list containing SurveyIDs in common\n",
    "        only_in_f1: a list of SurveyIDs present only in file 1\n",
    "        only_in_f2:  a list of SurveyIDs present only in file 2\n",
    "        \"\"\"\n",
    "    \n",
    "    f1_surveyIDs = get_df_surveyIDs(file_path_1)\n",
    "    f2_surveyIDs = get_df_surveyIDs(file_path_2)\n",
    "    \n",
    "    common = set(f1_surveyIDs) & set(f2_surveyIDs)\n",
    "    only_in_f1 = set(f1_surveyIDs) - set(f2_surveyIDs)\n",
    "    only_in_f2 = set(f2_surveyIDs) - set(f1_surveyIDs)\n",
    "    \n",
    "    common_list = sorted(list(common))\n",
    "    only_in_f1_list = sorted(list(only_in_f1))\n",
    "    only_in_f2_list = sorted(list(only_in_f2))\n",
    "    \n",
    "    print(f\"Reviewing files {file_path_1} and {file_path_2}\" )\n",
    "    print(f\"\\nThe two files have the following {len(common)} SurveyIds in common:\")\n",
    "    print(common_list)\n",
    "    print(f\"\\nThe {len(only_in_f1)} SurveyIDs present only in {file_path_1} are:\")\n",
    "    print(only_in_f1_list)\n",
    "    print(f\"\\nThe {len(only_in_f2)} SurveyIDs present only in {file_path_2} are:\")\n",
    "    print(only_in_f2_list)\n",
    "    \n",
    "    \n",
    "    return {\"common\": common, \n",
    "            \"only_in_f1\": only_in_f1, \n",
    "            \"only_in_f2\": only_in_f2}"
   ]
  },
  {
   "cell_type": "code",
   "execution_count": null,
   "id": "c115ef2a",
   "metadata": {},
   "outputs": [],
   "source": [
    "# example usage\n",
    "survey_comparison = find_matching_surveyIDs(file_path_1, file_path_2)\n",
    "common = survey_comparison[\"common\"]\n",
    "only_in_f1 = survey_comparison[\"only_in_f1\"]\n",
    "only_in_f2 = survey_comparison[\"only_in_f2\"]"
   ]
  },
  {
   "cell_type": "markdown",
   "id": "07b498d2-067e-4e08-99f2-2c7be994d2d4",
   "metadata": {},
   "source": [
    "# Find potential pairs\n",
    "This next step combines SurveyIDs with the same Marine reserve code from two files, it allows us to check visually if there are any potential pairs, for example small date discrepancies)."
   ]
  },
  {
   "cell_type": "code",
   "execution_count": null,
   "id": "3642d139-cc4b-4f90-8d54-b98109cc8321",
   "metadata": {},
   "outputs": [],
   "source": [
    "# create nested list to be used with the defaultdict in potential_pairs\n",
    "def nl():\n",
    "    return [[],[]]\n",
    "    \n",
    "def potential_pairs(survey_list_1, survey_list_2):\n",
    "    possible_pairs = defaultdict(nl)\n",
    "    for s_id in survey_list_1:\n",
    "        possible_pairs[s_id[:3]][0].append(s_id)\n",
    "        \n",
    "    for s_id in survey_list_2:\n",
    "        possible_pairs[s_id[:3]][1].append(s_id)\n",
    "\n",
    "    possible_matches = {}\n",
    "    for k, (s1, s2) in possible_pairs.items():\n",
    "        if s1 != [] and s2 != []:\n",
    "            possible_matches[k] = [s1, s2]\n",
    "    return possible_matches\n",
    "\n",
    "print(\"Potential pairs between SurveyIDs only found in the two files:\")\n",
    "pprint(potential_pairs(only_in_f1, only_in_f2)) \n",
    "print(\"\\nPotential pairs between SurveyIDs found between the first file and the SurveyIDs in common\")\n",
    "pprint(potential_pairs(common, only_in_f1)) \n",
    "print(\"\\nPotential pairs between SurveyIDs found between the first file and the SurveyIDs in common\")\n",
    "pprint(potential_pairs(common, only_in_f2)) \n",
    "\n"
   ]
  }
 ],
 "metadata": {
  "kernelspec": {
   "display_name": "Python 3 (ipykernel)",
   "language": "python",
   "name": "python3"
  },
  "language_info": {
   "codemirror_mode": {
    "name": "ipython",
    "version": 3
   },
   "file_extension": ".py",
   "mimetype": "text/x-python",
   "name": "python",
   "nbconvert_exporter": "python",
   "pygments_lexer": "ipython3",
   "version": "3.8.16"
  },
  "toc": {
   "base_numbering": 1,
   "nav_menu": {},
   "number_sections": true,
   "sideBar": true,
   "skip_h1_title": false,
   "title_cell": "Table of Contents",
   "title_sidebar": "Contents",
   "toc_cell": true,
   "toc_position": {},
   "toc_section_display": true,
   "toc_window_display": true
  }
 },
 "nbformat": 4,
 "nbformat_minor": 5
}
