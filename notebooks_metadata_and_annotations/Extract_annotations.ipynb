{
 "cells": [
  {
   "cell_type": "markdown",
   "id": "fe4bd75b-c68f-45e3-a2b0-ed7d4077ff92",
   "metadata": {},
   "source": [
    "# Extract annotation data from files\n",
    "\n",
    "Running this will create an export folder in the current directory\n"
   ]
  },
  {
   "cell_type": "code",
   "execution_count": 8,
   "id": "7352db05-8441-4bac-86dd-cfa92a3f0636",
   "metadata": {},
   "outputs": [],
   "source": [
    "import os\n",
    "import re\n",
    "import pandas as pd\n",
    "\n",
    "from ipyfilechooser import FileChooser\n",
    "from IPython.display import display"
   ]
  },
  {
   "cell_type": "code",
   "execution_count": 9,
   "id": "9620ae77-9e27-497b-b12b-574563ecca5d",
   "metadata": {},
   "outputs": [],
   "source": [
    "### Constants\n",
    "\n",
    "# SAMPLE_SHEET_LINES defines how many lines of the file get shown each time a new file is processed\n",
    "SAMPLE_SHEET_LINES = 5\n",
    "\n",
    "OUTPUT_COLUMNS = ['DeploymentID', 'ScientificName', 'TimeOfMax', 'MaxInterval']\n",
    "\n",
    "\n",
    "# Different combinations of columns\n",
    "COLUMNS = [['DeploymentID', 'ScientificName', 'TimeOfMaxN', 'MaxN'],\n",
    "           ['DeploymentID', 'ScientificName', 'TimeOfMax', 'MaxN'],\n",
    "           ['DeploymentID', 'ScientificName', 'TimeMaxN', 'MaxN'], \n",
    "           ['DeploymentID' ,'ScientificNameFish', 'TimeMaxN', 'MaxN'],\n",
    "           ['UnitID' ,'ScientificNameFish', 'TimeMaxN', 'MaxN'],\n",
    "           ['DeploymentID', 'ScientificName', 'TimeOfMax', 'MaxInterval']]\n",
    "\n",
    "# Most often the annotations is held in the \"All counts compiled\" sheet"
   ]
  },
  {
   "cell_type": "markdown",
   "id": "552ac8e2-744a-4714-8266-16af8d98d72f",
   "metadata": {},
   "source": [
    "#### Select the folder containing the files from which to extract video analysis\n",
    "\n",
    "\n"
   ]
  },
  {
   "cell_type": "code",
   "execution_count": 10,
   "id": "252d57c2-43a3-43b2-b2be-9989483d123d",
   "metadata": {},
   "outputs": [
    {
     "data": {
      "application/vnd.jupyter.widget-view+json": {
       "model_id": "a81450d97a82415c99bd9699b892e608",
       "version_major": 2,
       "version_minor": 0
      },
      "text/plain": [
       "FileChooser(path='/Users/kalindi/Desktop/dt/spyfish/notebooks', filename='', title='<b>Select a folder</b>', s…"
      ]
     },
     "metadata": {},
     "output_type": "display_data"
    }
   ],
   "source": [
    "folder_chooser = FileChooser(title='<b>Select a folder</b>')\n",
    "display(folder_chooser)\n"
   ]
  },
  {
   "cell_type": "code",
   "execution_count": 13,
   "id": "9b3c89dc-fed4-4a45-bfb9-0844b4edce70",
   "metadata": {
    "scrolled": true
   },
   "outputs": [
    {
     "name": "stdout",
     "output_type": "stream",
     "text": [
      "The selected folder is /Users/kalindi/Desktop/dt/spyfish/og/VideoAnalysis\n"
     ]
    },
    {
     "data": {
      "text/plain": [
       "['/Users/kalindi/Desktop/dt/spyfish/og/VideoAnalysis/MPAMAR Data BUV Te Tapuwae o Rongokako 2021 - DOC-6731514.csv',\n",
       " '/Users/kalindi/Desktop/dt/spyfish/og/VideoAnalysis/MPAMAR Data BUV Akaroa Pohatu 2019 Video analysis data sheet - DOC-6649702.csv',\n",
       " '/Users/kalindi/Desktop/dt/spyfish/og/VideoAnalysis/MPAMAR Data BUV Akaroa Pohatu 2017 Video analysis data sheet - DOC-5452215.csv']"
      ]
     },
     "execution_count": 13,
     "metadata": {},
     "output_type": "execute_result"
    }
   ],
   "source": [
    "selected_folder = folder_chooser.selected_path\n",
    "assert selected_folder != None, \"Select folder in the cell above.\"\n",
    "print(f\"The selected folder is {selected_folder}\")\n",
    "all_files = os.listdir(selected_folder)\n",
    "all_tab_files = [os.path.join(selected_folder, file) for file in all_files if file.endswith(\".xlsx\") or file.endswith(\".xls\") or file.endswith(\".csv\")]\n",
    "all_tab_files"
   ]
  },
  {
   "cell_type": "markdown",
   "id": "8a2dc2c0-4065-4547-a110-c818df2c801f",
   "metadata": {},
   "source": [
    "## Functions"
   ]
  },
  {
   "cell_type": "code",
   "execution_count": 14,
   "id": "50680390-644f-4f95-b4d7-bca6a2303874",
   "metadata": {},
   "outputs": [],
   "source": [
    "def export_metadata_from_files_to_excel( all_tab_files, export_excel_file_name=None, include_file_name=False, columns=OUTPUT_COLUMNS):\n",
    "    \n",
    "    problem_files = []\n",
    "    done_files = []\n",
    "    to_fix_files = []\n",
    "\n",
    "    \n",
    "    if include_file_name:\n",
    "        columns += [\"FileName\"]\n",
    "    \n",
    "    df_with_vals = pd.DataFrame(columns=columns) \n",
    "\n",
    "    \n",
    "    for file_name in all_tab_files:\n",
    "        print(f\"Working on file: '{file_name}'. Example rows:\\n\")\n",
    "        # Extract data frame from Excel sheet\n",
    "        selected_df = get_df_from_sheet(file_name)\n",
    "        if selected_df.empty:\n",
    "            print(f\"!!!!!!!!!!!!!!!!!!!!!!!!!!!!!File not exported {file_name}!!!!!!!!!!!!!!!!!!!!!!!!!!!!!\")\n",
    "            problem_files.append(file_name)\n",
    "        else:\n",
    "            to_export = True\n",
    "            print(f\"Reviewing file: {file_name}.\")\n",
    "            for col in selected_df:\n",
    "                print(f\"Showing unique values from column: {col}\\n\", selected_df[col].unique())\n",
    "                file_to_fix = input(\"1: if all good, 2: if the order of BUV is off, 3: if the df needs fixing\")\n",
    "                if file_to_fix == \"2\" and col == \"DeploymentID\":\n",
    "                    selected_df[\"DeploymentID\"] = selected_df[\"DeploymentID\"].map(format_DeploymentID)\n",
    "                    print(selected_df[\"DeploymentID\"].unique())\n",
    "                    \n",
    "                elif file_to_fix != \"1\":\n",
    "                    to_fix_files.append(file_name)\n",
    "                    to_export = False\n",
    "                    break\n",
    "            if to_export:\n",
    "                if include_file_name:\n",
    "                    selected_df[\"FileName\"] = file_name \n",
    "                print(f\"Showing sample of export with shape: {selected_df.shape}\")\n",
    "                display(selected_df.sample(10))\n",
    "                export_to_annotations(selected_df, file_name, export_excel_file_name=None)     \n",
    "                done_files.append(file_name)\n",
    "\n",
    "        # print(f\"Done files: \\n {done_files}\")\n",
    "        # print(f\"Problem files: \\n{problem_files}\")\n",
    "        # print(f\"Files to fix: \\n{to_fix_files}\")\n",
    "        \n",
    "        \n",
    "    return done_files, problem_files, to_fix_files\n",
    "            "
   ]
  },
  {
   "cell_type": "code",
   "execution_count": 15,
   "id": "1ce3b6d7-a111-442f-904a-7f930b704478",
   "metadata": {},
   "outputs": [],
   "source": [
    "def get_the_right_columns(current_file_df):\n",
    "    print(\"Current columns of file\\n\", current_file_df.columns)\n",
    "    for c in COLUMNS:\n",
    "        try:\n",
    "            selected_df = current_file_df[c]\n",
    "            print(\"Shape of current sheet with relevant columns: \",selected_df.shape)\n",
    "            rename_dict = dict(zip(c, OUTPUT_COLUMNS))\n",
    "            selected_df.rename(columns=rename_dict, inplace=True)\n",
    "            return selected_df\n",
    "        except Exception as error: \n",
    "            print(f\"Something is wrong with the columns: {error}\\n.\")\n",
    "    return pd.DataFrame()"
   ]
  },
  {
   "cell_type": "code",
   "execution_count": 16,
   "id": "4ce5b87d-9f93-4361-bf49-5cb5d200f214",
   "metadata": {},
   "outputs": [],
   "source": [
    "def get_df_from_sheet(file_name):\n",
    "    \"\"\"Get a data frame from the given sheet and filename.\"\"\"\n",
    "    if file_name.endswith(\".csv\"):\n",
    "        try:\n",
    "            current_file_df = pd.read_csv(file_name)\n",
    "            return get_the_right_columns(current_file_df)\n",
    "        except Exception as error: \n",
    "            print(f\"File {file_name} doesn't open with CSV reader.\", error)\n",
    "    else:\n",
    "        tabs = pd.ExcelFile(file_name).sheet_names\n",
    "        for sheet_name in tabs:\n",
    "            print(f\"Checking sheet: {sheet_name}\")\n",
    "            try: \n",
    "                current_file_df = pd.read_excel(file_name, sheet_name=sheet_name)\n",
    "                selected_df = get_the_right_columns(current_file_df)\n",
    "                if not selected_df.empty:\n",
    "                    print(f\"Exporting sheet: {sheet_name} into df.\")\n",
    "                    return selected_df\n",
    "            except  Exception as error: \n",
    "                print(f\"File {file_name} wasn't processed because of:\", error)\n",
    "    return pd.DataFrame()"
   ]
  },
  {
   "cell_type": "code",
   "execution_count": 17,
   "id": "be86468b-9938-4743-b339-479b0f1db41c",
   "metadata": {},
   "outputs": [],
   "source": [
    "def format_DeploymentID(dep_id):\n",
    "    correct_pattern = r'^[A-Z]{3}_20\\d{6}_BUV_\\d{4}$'\n",
    "    fix_zeros = r'^[A-Z]{3}_20\\d{6}_BUV_\\d*$'\n",
    "    fix_pattern = r'^BUV_[A-Z]{3}_20\\d{6}_\\d*$'\n",
    "    if re.match(correct_pattern, dep_id):\n",
    "        pass\n",
    "    elif re.match(fix_zeros, dep_id):\n",
    "        num = int(dep_id[17:])\n",
    "        num_str = f\"{num:04}\"\n",
    "        dep_id = dep_id[:17] + num_str\n",
    "        \n",
    "    elif re.match(fix_pattern, dep_id):\n",
    "        dep_id = dep_id[4:17] + \"BUV_\" + f\"{int(dep_id[17:]):04}\"\n",
    "    else:\n",
    "        print(f\"DeploymentID another issue: {dep_id}\")\n",
    "    return dep_id"
   ]
  },
  {
   "cell_type": "code",
   "execution_count": 21,
   "id": "c976f36f-6b78-4e6a-8d4c-684ebc6d11d3",
   "metadata": {},
   "outputs": [],
   "source": [
    "def export_to_annotations(df_with_vals, file_name, export_excel_file_name=None):\n",
    "    # Export extracted metadata to Excel sheet in export folder\n",
    "    # rewrite at each step to save progress after each file\n",
    "    if not export_excel_file_name:\n",
    "        export_file_name = os.path.basename(file_name)\n",
    "        export_file_name = export_file_name[:export_file_name.find('.')]\n",
    "        export_excel_file_name = f\"annotations_buv_doc_{export_file_name}.xlsx\"\n",
    "\n",
    " \n",
    "    # make export folder in folder containing the annotation files \n",
    "    path_to_export = os.path.join(selected_folder, \"export\")\n",
    "    print(path_to_export)\n",
    "    os.makedirs(path_to_export, exist_ok=True)\n",
    "    export_location = os.path.join(path_to_export, export_excel_file_name)\n",
    "    print(f\"Exporting data to file: '{export_location}'\")\n",
    "    df_with_vals.to_excel(export_location)  \n"
   ]
  },
  {
   "cell_type": "markdown",
   "id": "b5c8ce6c-00ab-43b5-b4ad-89f70ffc6107",
   "metadata": {
    "scrolled": true
   },
   "source": [
    "\n",
    "## Run extractor"
   ]
  },
  {
   "cell_type": "markdown",
   "id": "58d47aea-0d6d-4645-9f78-4b3a35505284",
   "metadata": {
    "scrolled": true
   },
   "source": [
    "done_files, problem_files, to_fix_files = export_metadata_from_files_to_excel(all_tab_files=all_tab_files)"
   ]
  },
  {
   "cell_type": "code",
   "execution_count": 23,
   "id": "df24df32-cc19-4f28-b975-09cfb3ea3052",
   "metadata": {
    "scrolled": true
   },
   "outputs": [
    {
     "data": {
      "text/plain": [
       "(0, 1, 3, 2)"
      ]
     },
     "execution_count": 23,
     "metadata": {},
     "output_type": "execute_result"
    }
   ],
   "source": [
    "len(problem_files), len(to_fix_files), len(all_tab_files), len(done_files)"
   ]
  },
  {
   "cell_type": "code",
   "execution_count": 24,
   "id": "c9ff1746-dc03-4892-a8c7-1034746c8d09",
   "metadata": {
    "scrolled": true
   },
   "outputs": [
    {
     "data": {
      "text/plain": [
       "['/Users/kalindi/Desktop/dt/spyfish/og/VideoAnalysis/MPAMAR Data BUV Te Tapuwae o Rongokako 2021 - DOC-6731514.csv',\n",
       " '/Users/kalindi/Desktop/dt/spyfish/og/VideoAnalysis/MPAMAR Data BUV Akaroa Pohatu 2019 Video analysis data sheet - DOC-6649702.csv']"
      ]
     },
     "execution_count": 24,
     "metadata": {},
     "output_type": "execute_result"
    }
   ],
   "source": [
    "done_files"
   ]
  },
  {
   "cell_type": "code",
   "execution_count": 25,
   "id": "a03b1c6e-2b31-4885-944c-4e3c157c7b2e",
   "metadata": {},
   "outputs": [
    {
     "data": {
      "text/plain": [
       "[]"
      ]
     },
     "execution_count": 25,
     "metadata": {},
     "output_type": "execute_result"
    }
   ],
   "source": [
    "problem_files"
   ]
  },
  {
   "cell_type": "code",
   "execution_count": 26,
   "id": "50e226ac-3b7f-4ea4-9a47-7bba49efc51d",
   "metadata": {},
   "outputs": [
    {
     "data": {
      "text/plain": [
       "['/Users/kalindi/Desktop/dt/spyfish/og/VideoAnalysis/MPAMAR Data BUV Akaroa Pohatu 2017 Video analysis data sheet - DOC-5452215.csv']"
      ]
     },
     "execution_count": 26,
     "metadata": {},
     "output_type": "execute_result"
    }
   ],
   "source": [
    "to_fix_files"
   ]
  },
  {
   "cell_type": "code",
   "execution_count": null,
   "id": "d0207ba5-5d46-4026-b84d-ca578657cef5",
   "metadata": {},
   "outputs": [],
   "source": []
  },
  {
   "cell_type": "markdown",
   "id": "cabbbeb0-db69-44ff-ba02-e6066d23f18c",
   "metadata": {},
   "source": [
    "# Notes\n"
   ]
  },
  {
   "cell_type": "markdown",
   "id": "4819e003-cb20-4513-9b7c-d4699d4ec0e9",
   "metadata": {},
   "source": [
    "\n",
    "- Column names in the export folder were renamed to match those the original files, case, spaces removed\n",
    "- ReplicateWithinSite and DeploymentID added manually in a few occasions\n",
    "\n",
    "```\n",
    "E2 = SurveyID \n",
    "R = DeploymentID \n",
    "AF2 = ReplicateWithinSite \n",
    "AC2 = SiteID \n",
    "```\n",
    "__DeploymentID__\n",
    "\n",
    "If SurveyID order of values needs to be fixed too \n",
    "```\n",
    "=CONCAT(RIGHT(E2, 12), \"_BUV_\",TEXT(AF2,\"0000\")) \n",
    "```\n",
    "SurveyID ok \n",
    "```\n",
    "=CONCAT(E2,\"_\",TEXT(AF2,\"0000\"))  \n",
    "```\n",
    "\n",
    "__ReplicateWithinSite__\n",
    "```\n",
    "=IF(AC2=AC3,AF2,AF2+1)\n",
    "```\n",
    "AF1 = 0"
   ]
  },
  {
   "cell_type": "markdown",
   "id": "0efd1ff4-a1a5-4d7e-ab93-883c03c80700",
   "metadata": {},
   "source": [
    "# WORK IN PROGRESS NOTES: "
   ]
  },
  {
   "cell_type": "markdown",
   "id": "7c7e27c3-6f67-4786-b698-1b2fd7e946ae",
   "metadata": {},
   "source": [
    "\n",
    "\n",
    "\n",
    "## Potentially ok: \n",
    "\n",
    "Every line is a different DeploymenID\n",
    "- Te Whanganui-O-Hei BUV 2016 DATA - DOC-7180687.xlsx\n",
    "\n",
    "Potenitally able to extract: \n",
    "- 'MPAMAR Data BUV Tapuae MR 2011 - DOC-1243658.xlsx'\n",
    "- 'MRMDATA - BUV - Long Bay Okura Marine Reserve 2021 - DOC-7164369.xlsx']\n",
    "\n",
    "\n",
    "Different format?\n",
    "- 'MPAMAR Akaroa Pohatu BUV summary data 2021 - DOC-7166068.csv'\n",
    "\n",
    "\n",
    "Other data:\n",
    "- 'Poor Knights Islands BUV analysis April 2015 - DOC-2654059.xlsx',\n",
    "\n",
    "TODO: \n",
    "- should I reupload the changed files that I used for the extraction (where I changed replica IDs etc)\n",
    "- should I check if the deploymentIDs are good\n",
    "- \n",
    "# TODO: \n",
    "\n",
    "1. consolidate names of columns in annotate file\n"
   ]
  },
  {
   "attachments": {},
   "cell_type": "markdown",
   "id": "cbb5f1e1-debe-4a9e-a434-207c9eb01811",
   "metadata": {},
   "source": [
    "\n",
    "\n",
    "What about when replicate within site not continuous? check exports\n",
    "\n",
    "\n",
    "## Comments/Questions:\n",
    "- Bad deployment entries? Copy them over? No?\n",
    "\n",
    "\n",
    "## Extra columns in BUV sheet \n",
    "- Should metadata be extracted from here too?\n",
    "- how to define replicateWithinSite?\n",
    "- What about the order?\n",
    "- 2 IDs? what order?\n",
    "\n",
    "\n",
    "Files for the above:\n",
    "- 'Te Whanganui-O-Hei BUV 2018 DATA - DOC-7180695.xlsx',\n",
    "- 'Te Whanganui-O-Hei BUV 2016 DATA - DOC-7180687.xlsx',\n",
    "- 'Te Whanganui-O-Hei BUV 2020 DATA - DOC-7180706.xlsx',\n",
    "- 'MRMDATA BUV CROP and TAW 2023 - DOC-7433664.xlsx',\n",
    "-  'MPAMAR Data BUV Te Tapuwae o Rongokako 2021 - DOC-6731514.csv',\n",
    "    - what about the SiteIDs and replicate num they don't seem to match\n",
    "-  'MPAMAR Data BUV Akaroa Pohatu 2019 Video analysis data sheet - DOC-6649702.csv',\n",
    "-   'MPAMAR Data BUV Akaroa Pohatu 2017 Video analysis data sheet - DOC-5452215.csv', \n",
    "\n",
    "\n",
    "   \n",
    "Sheet 1 works? Is this an example?\n",
    " 'Copy of BUV data entry sheet for Horoirangi 2022 example sites jane.xlsx', \n",
    "\n",
    "Just BUV info: \n",
    "\n",
    " - 'MPAMAR_TeWhanganui-o-Hei_BUV_DATA_Fish_2023 - DOC-7375238.xlsx', \n",
    " - 'Poor Knights Islands BUV analysis April 2015 - DOC-2654059.xlsx', (and a bit different)\n",
    "\n",
    "\n",
    "## Different data: \n",
    "- 'MPAMAR Data BUV Tuhua MR 2004 - DOC-1159857.xlsx',\n",
    "- 'MPAMAR Data BUV Tapuae MR 2011 - DOC-1243658.xlsx',\n",
    "- 'MPAMAR Data BUV Horoirangi Tonga Island MR 2004 - DOC-6831278.xlsx',\n",
    "-  'MRMDATA - BUV - Long Bay Okura Marine Reserve 2021 - DOC-7164369.xlsx'\n",
    "\n",
    "Not that exciting.... annotations_buv_doc_None\n",
    "\n",
    "## Comments on the files\n",
    "\n",
    "- 'MPAMAR Data BUV Te Angiangi 2021 Video analysis data sheet.xlsm'\n",
    "    - has 3 different surveyIDs\n",
    "- 'MPAMAR Data BUV Akaroa Pohatu 2017 Video analysis data sheet.xlsm'\n",
    "    - missing SideID data for second half\n",
    "    - difference between xlsm and csv file\n",
    "    - \n",
    " \n",
    "ReplicateWithinSite and DeploymentID last 4 digits don't match?\n",
    "Take BUV out of data files? take video info out of data files\n",
    "\n",
    "how many should there be in annotations\n",
    "\n",
    "\n",
    "\n",
    "### problem files\n",
    "- 'MPAMAR Metadata BUV Te Tapuwae o Rongokako 2021.xlsx'\n",
    "    - sheet is about video not metadata\n",
    "- 'MPAMAR Metadata BUV Te Angiangi 2021.csv'\n",
    "    - sheet is very different info\n",
    "\n",
    "\n",
    " 'MPAMAR Akaroa Pohatu BUV metadata 2021 - DOC-7166068.csv', \n",
    " 'MPAMAR Metadata BUV Te Angiangi 2021.csv', \n",
    " 'Poor Knights Islands BUV analysis April 2015 - DOC-2654059.xlsx'\n",
    "\n",
    "\n",
    "\n",
    "### 9.11 Old notes, done\n",
    " \n",
    "Many different deploymentID dates:\n",
    "[?] MPAMAR Data BUV Tuhua 2020 Video analysis sheet.xlsm\n",
    "        TUH_20200830_BUV went with that\n",
    "[?] MPAMAR Data BUV Tonga Island 2021 Video analysis data sheet.xlsm\n",
    "      TON_20211026_BUV is in the survey file, so I'll go with that\n",
    "[?] MPAMAR Data BUV Tuhua 2021 Video analysis sheet - DOC-6891090.xlsm\n",
    "      siteIds not in order, TUH_20210309_BUV go with this\n",
    "[?] MPAMAR Data BUV Tapuae 2021 Video analysis sheet .xlsm.\n",
    "      TAP in the video data, but in survey it's SLI_20220228_BUV, so went with that\n",
    "\n",
    "      \n",
    "Duplicate files/not matching entries?\n",
    "- MPAMAR Data BUV Akaroa Pohatu 2019 Video analysis data sheet.xlsm\n",
    "- MPAMAR Data BUV Akaroa Pohatu 2019 Video analysis data sheet - DOC-6649702.csv [ignore]\n",
    "and\n",
    "- MPAMAR Data BUV Akaroa Pohatu 2017 Video analysis data sheet - DOC-5452215.csv [ignore]\n",
    "- MPAMAR Data BUV Akaroa Pohatu 2017 Video analysis data sheet.xlsm\n",
    "\n",
    "        "
   ]
  },
  {
   "cell_type": "markdown",
   "id": "e631c130-aee7-479a-807f-5be4ab211676",
   "metadata": {},
   "source": [
    "# TODO etc"
   ]
  },
  {
   "cell_type": "code",
   "execution_count": null,
   "id": "3e8428fb-0678-4dd1-b899-03299032b3e4",
   "metadata": {},
   "outputs": [],
   "source": [
    "# try additional sheets get sheet info?\n",
    "# reset infor?\n",
    "# excel sheets get didn't work to get sheet info\n",
    "# if deployment id not ok, put files into to change files\n"
   ]
  },
  {
   "cell_type": "markdown",
   "id": "681f1bcb-bfba-4d45-84b0-0db6cf2a90a2",
   "metadata": {},
   "source": [
    "# Extra code bits hold:\n"
   ]
  },
  {
   "cell_type": "code",
   "execution_count": null,
   "id": "87dde47b-1daf-424a-afe0-1587dd803dc4",
   "metadata": {},
   "outputs": [],
   "source": [
    "## Print the created metadata dataframe (that was exported to the excel file)\n",
    "# Display sample of data frame\n",
    "with pd.option_context('display.max_columns', None): \n",
    "    display(current_file_df.sample(min(SAMPLE_SHEET_LINES, current_file_df.shape[0])))\n",
    "print(f\"Working on file: '{file_name}'.\\n\")"
   ]
  },
  {
   "cell_type": "code",
   "execution_count": null,
   "id": "3633b42c-a78e-4abf-9730-5edf19687a6b",
   "metadata": {},
   "outputs": [],
   "source": [
    "a = pd.DataFrame([[1,2,3,4]], columns =['DeploymentID', 'ScientificName', 'TimeMaxN', 'MaxN'] )\n",
    "\n",
    "c = ['DeploymentID', 'ScientificName', 'TimeMaxN', 'MaxN']  \n",
    "a = a.rename({c[0]:'DeploymentID', c[1]:'ScientificName', c[2]:'TimeOfMax', c[3]:'MaxInterval'}, axis='columns')\n",
    "a"
   ]
  },
  {
   "cell_type": "code",
   "execution_count": null,
   "id": "d8269fe1-db1c-4ed7-9f73-91f0defe5b41",
   "metadata": {},
   "outputs": [],
   "source": []
  }
 ],
 "metadata": {
  "kernelspec": {
   "display_name": "Python 3 (ipykernel)",
   "language": "python",
   "name": "python3"
  },
  "language_info": {
   "codemirror_mode": {
    "name": "ipython",
    "version": 3
   },
   "file_extension": ".py",
   "mimetype": "text/x-python",
   "name": "python",
   "nbconvert_exporter": "python",
   "pygments_lexer": "ipython3",
   "version": "3.8.16"
  }
 },
 "nbformat": 4,
 "nbformat_minor": 5
}
