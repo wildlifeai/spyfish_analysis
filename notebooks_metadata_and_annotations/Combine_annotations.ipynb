{
 "cells": [
  {
   "cell_type": "markdown",
   "id": "cbaabfd2",
   "metadata": {
    "toc": true
   },
   "source": [
    "<h1>Table of Contents<span class=\"tocSkip\"></span></h1>\n",
    "<div class=\"toc\"><ul class=\"toc-item\"><li><span><a href=\"#TODO\" data-toc-modified-id=\"TODO-1\"><span class=\"toc-item-num\">1&nbsp;&nbsp;</span>TODO</a></span></li></ul></div>"
   ]
  },
  {
   "cell_type": "code",
   "execution_count": 2,
   "id": "dd9313a0-073f-453d-9316-f0d74eb271d1",
   "metadata": {},
   "outputs": [],
   "source": [
    "import os\n",
    "import pandas as pd\n",
    "import numpy as np\n",
    "\n",
    "from ipyfilechooser import FileChooser\n",
    "from IPython.display import display"
   ]
  },
  {
   "cell_type": "code",
   "execution_count": 3,
   "id": "23b85252-3b5a-4cf0-9971-125c59e5871c",
   "metadata": {},
   "outputs": [],
   "source": [
    "def display_file(search_request=\"item you are looking for\"):\n",
    "    folder_chooser = FileChooser(title=f'<b>Select the {search_request}</b>')\n",
    "    display(folder_chooser)\n",
    "    return folder_chooser"
   ]
  },
  {
   "cell_type": "code",
   "execution_count": 4,
   "id": "661111e4-fd09-488f-83d1-fc16d0f0ac0d",
   "metadata": {},
   "outputs": [
    {
     "data": {
      "application/vnd.jupyter.widget-view+json": {
       "model_id": "9a9c8a6c7419468c82298c58273181f5",
       "version_major": 2,
       "version_minor": 0
      },
      "text/plain": [
       "FileChooser(path='/Users/kalindi/Desktop/dt/spyfish/spyfish_analysis/notebooks_metadata_and_annotations', file…"
      ]
     },
     "metadata": {},
     "output_type": "display_data"
    }
   ],
   "source": [
    "search_request = \"folder containing annotation files\"\n",
    "folder_chooser = display_file(search_request)"
   ]
  },
  {
   "cell_type": "code",
   "execution_count": 6,
   "id": "ae7511d9-21ab-4988-8dda-5576f79b047b",
   "metadata": {
    "scrolled": true
   },
   "outputs": [
    {
     "name": "stdout",
     "output_type": "stream",
     "text": [
      "The selected folder is /Users/kalindi/Desktop/dt/spyfish/Spyfish - 3.12/Video analysis/export\n"
     ]
    },
    {
     "data": {
      "text/plain": [
       "['/Users/kalindi/Desktop/dt/spyfish/Spyfish - 3.12/Video analysis/export/annotations_buv_doc_MPAMAR dataTe Whanganui-O-Hei BUV 2022.xlsx',\n",
       " '/Users/kalindi/Desktop/dt/spyfish/Spyfish - 3.12/Video analysis/export/annotations_buv_doc_MPAMAR data Akaroa Pohatu BUV 2021 - Video analysis data sheet - DOC-7166069.xlsx',\n",
       " '/Users/kalindi/Desktop/dt/spyfish/Spyfish - 3.12/Video analysis/export/annotations_buv_doc_MPAMAR Data BUV Tonga Island 2021 Video analysis data sheet.xlsx',\n",
       " '/Users/kalindi/Desktop/dt/spyfish/Spyfish - 3.12/Video analysis/export/annotations_buv_doc_Te Whanganui-O-Hei BUV 2016 DATA - DOC-7180687.xlsx',\n",
       " '/Users/kalindi/Desktop/dt/spyfish/Spyfish - 3.12/Video analysis/export/annotations_buv_doc_Te Whanganui-O-Hei BUV 2020 DATA - DOC-7180706.xlsx',\n",
       " '/Users/kalindi/Desktop/dt/spyfish/Spyfish - 3.12/Video analysis/export/annotations_buv_doc_MPAMAR Data BUV Horoirangi 2021 - Video analysis sheet.xlsx',\n",
       " '/Users/kalindi/Desktop/dt/spyfish/Spyfish - 3.12/Video analysis/export/annotations_buv_doc_Te Whanganui-O-Hei BUV 2018 DATA - DOC-7180695.xlsx',\n",
       " '/Users/kalindi/Desktop/dt/spyfish/Spyfish - 3.12/Video analysis/export/annotations_buv_doc_MPAMAR Data BUV Akaroa Pohatu 2017 Video analysis data sheet.xlsx']"
      ]
     },
     "execution_count": 6,
     "metadata": {},
     "output_type": "execute_result"
    }
   ],
   "source": [
    "selected_folder = folder_chooser.selected_path\n",
    "assert selected_folder != None, \"Select folder in the cell above.\"\n",
    "print(f\"The selected folder is {selected_folder}\")\n",
    "all_files = os.listdir(selected_folder)\n",
    "# TODO should only be CSV files\n",
    "all_tab_files = [os.path.join(selected_folder, file) for file in all_files if file.endswith(\".xlsx\") or file.endswith(\".xls\") or file.endswith(\".csv\")]\n",
    "all_tab_files"
   ]
  },
  {
   "cell_type": "code",
   "execution_count": 8,
   "id": "60cc6f54-3f2f-444b-b84c-940a9606622c",
   "metadata": {},
   "outputs": [
    {
     "name": "stdout",
     "output_type": "stream",
     "text": [
      "File containing the conacatenated annotations exported to: '/Users/kalindi/Desktop/dt/spyfish/Spyfish - 3.12/Video analysis/export/export/annotations_buv_doc_current.csv'\n"
     ]
    }
   ],
   "source": [
    "dfs = []\n",
    "# check lines\n",
    "count_lines = 0\n",
    "for f in all_tab_files:\n",
    "    # TODO remove the xlsx option, make output CSV\n",
    "    if f.endswith(\".xlsx\"):\n",
    "        data = pd.read_excel(f, 'Sheet1')\n",
    "    elif f.endswith(\".csv\"):\n",
    "        data = pd.read_csv(f)\n",
    "    else:\n",
    "        print(f\"{f} not exported\")\n",
    "        continue\n",
    "    count_lines += data.shape[0]\n",
    "    dfs.append(data)\n",
    "\n",
    "    \n",
    "\n",
    "combined_df = pd.concat(dfs, axis=0, ignore_index=True)\n",
    "assert combined_df.shape[0] == count_lines\n",
    "\n",
    "# make export folder in folder containing the annotation files \n",
    "path_to_export = os.path.join(selected_folder, \"export\")\n",
    "os.makedirs(path_to_export, exist_ok=True)\n",
    "export_excel_file_name = f\"annotations_buv_doc_current.csv\"\n",
    "export_location = os.path.join(path_to_export, export_excel_file_name)\n",
    "print(f\"File containing the conacatenated annotations exported to: '{export_location}'\")\n",
    "combined_df.to_csv(export_location)  "
   ]
  },
  {
   "cell_type": "code",
   "execution_count": 9,
   "id": "ad52c6b9-8943-432b-a878-c4db87027d18",
   "metadata": {},
   "outputs": [
    {
     "data": {
      "text/html": [
       "<div>\n",
       "<style scoped>\n",
       "    .dataframe tbody tr th:only-of-type {\n",
       "        vertical-align: middle;\n",
       "    }\n",
       "\n",
       "    .dataframe tbody tr th {\n",
       "        vertical-align: top;\n",
       "    }\n",
       "\n",
       "    .dataframe thead th {\n",
       "        text-align: right;\n",
       "    }\n",
       "</style>\n",
       "<table border=\"1\" class=\"dataframe\">\n",
       "  <thead>\n",
       "    <tr style=\"text-align: right;\">\n",
       "      <th></th>\n",
       "      <th>Unnamed: 0</th>\n",
       "      <th>DeploymentID</th>\n",
       "      <th>ScientificName</th>\n",
       "      <th>TimeOfMax</th>\n",
       "      <th>MaxInterval</th>\n",
       "      <th>AnnotatedBy</th>\n",
       "      <th>IntervalAnnotation</th>\n",
       "      <th>ConfidenceAgreement</th>\n",
       "    </tr>\n",
       "  </thead>\n",
       "  <tbody>\n",
       "    <tr>\n",
       "      <th>4736</th>\n",
       "      <td>479</td>\n",
       "      <td>HOR_20211122_BUV_0012</td>\n",
       "      <td>Chelidonichthys kumu</td>\n",
       "      <td>00:06:11</td>\n",
       "      <td>1.0</td>\n",
       "      <td>expert</td>\n",
       "      <td>30</td>\n",
       "      <td>NaN</td>\n",
       "    </tr>\n",
       "    <tr>\n",
       "      <th>7952</th>\n",
       "      <td>2081</td>\n",
       "      <td>AKA_20170223_BUV_0026</td>\n",
       "      <td>Pseudolabrus miles</td>\n",
       "      <td>00:12:00</td>\n",
       "      <td>1.0</td>\n",
       "      <td>expert</td>\n",
       "      <td>30</td>\n",
       "      <td>NaN</td>\n",
       "    </tr>\n",
       "    <tr>\n",
       "      <th>6190</th>\n",
       "      <td>306</td>\n",
       "      <td>AKA_20170223_BUV_0009</td>\n",
       "      <td>Parapercis colias</td>\n",
       "      <td>00:19:26</td>\n",
       "      <td>3.0</td>\n",
       "      <td>expert</td>\n",
       "      <td>30</td>\n",
       "      <td>NaN</td>\n",
       "    </tr>\n",
       "    <tr>\n",
       "      <th>7508</th>\n",
       "      <td>1636</td>\n",
       "      <td>AKA_20170223_BUV_0022</td>\n",
       "      <td>Notolabrus celidotus</td>\n",
       "      <td>00:19:51</td>\n",
       "      <td>1.0</td>\n",
       "      <td>expert</td>\n",
       "      <td>30</td>\n",
       "      <td>NaN</td>\n",
       "    </tr>\n",
       "    <tr>\n",
       "      <th>7544</th>\n",
       "      <td>1672</td>\n",
       "      <td>AKA_20170223_BUV_0022</td>\n",
       "      <td>Parapercis colias</td>\n",
       "      <td>00:30:08</td>\n",
       "      <td>3.0</td>\n",
       "      <td>expert</td>\n",
       "      <td>30</td>\n",
       "      <td>NaN</td>\n",
       "    </tr>\n",
       "    <tr>\n",
       "      <th>12429</th>\n",
       "      <td>6563</td>\n",
       "      <td>AKA_20170223_BUV_0061</td>\n",
       "      <td>Pseudolabrus miles</td>\n",
       "      <td>00:14:23</td>\n",
       "      <td>2.0</td>\n",
       "      <td>expert</td>\n",
       "      <td>30</td>\n",
       "      <td>NaN</td>\n",
       "    </tr>\n",
       "    <tr>\n",
       "      <th>1629</th>\n",
       "      <td>1571</td>\n",
       "      <td>AKA_20210127_BUV_0023</td>\n",
       "      <td>Notolabrus fucicola</td>\n",
       "      <td>00:10:27</td>\n",
       "      <td>1.0</td>\n",
       "      <td>expert</td>\n",
       "      <td>30</td>\n",
       "      <td>NaN</td>\n",
       "    </tr>\n",
       "    <tr>\n",
       "      <th>13141</th>\n",
       "      <td>7276</td>\n",
       "      <td>AKA_20170223_BUV_0069</td>\n",
       "      <td>Parapercis colias</td>\n",
       "      <td>00:31:43</td>\n",
       "      <td>6.0</td>\n",
       "      <td>expert</td>\n",
       "      <td>30</td>\n",
       "      <td>NaN</td>\n",
       "    </tr>\n",
       "    <tr>\n",
       "      <th>7830</th>\n",
       "      <td>1959</td>\n",
       "      <td>AKA_20170223_BUV_0025</td>\n",
       "      <td>Pseudolabrus miles</td>\n",
       "      <td>00:33:21</td>\n",
       "      <td>1.0</td>\n",
       "      <td>expert</td>\n",
       "      <td>30</td>\n",
       "      <td>NaN</td>\n",
       "    </tr>\n",
       "    <tr>\n",
       "      <th>5742</th>\n",
       "      <td>1487</td>\n",
       "      <td>HOR_20211122_BUV_0032</td>\n",
       "      <td>Parapercis colias</td>\n",
       "      <td>00:23:00</td>\n",
       "      <td>4.0</td>\n",
       "      <td>expert</td>\n",
       "      <td>30</td>\n",
       "      <td>NaN</td>\n",
       "    </tr>\n",
       "    <tr>\n",
       "      <th>672</th>\n",
       "      <td>614</td>\n",
       "      <td>AKA_20210127_BUV_0009</td>\n",
       "      <td>Meuschenia scaber</td>\n",
       "      <td>00:26:43</td>\n",
       "      <td>1.0</td>\n",
       "      <td>expert</td>\n",
       "      <td>30</td>\n",
       "      <td>NaN</td>\n",
       "    </tr>\n",
       "    <tr>\n",
       "      <th>13986</th>\n",
       "      <td>8121</td>\n",
       "      <td>AKA_20170223_BUV_0079</td>\n",
       "      <td>Notolabrus fucicola</td>\n",
       "      <td>00:31:36</td>\n",
       "      <td>1.0</td>\n",
       "      <td>expert</td>\n",
       "      <td>30</td>\n",
       "      <td>NaN</td>\n",
       "    </tr>\n",
       "    <tr>\n",
       "      <th>2462</th>\n",
       "      <td>2404</td>\n",
       "      <td>AKA_20210127_BUV_0034</td>\n",
       "      <td>Pseudolabrus miles</td>\n",
       "      <td>00:27:26</td>\n",
       "      <td>3.0</td>\n",
       "      <td>expert</td>\n",
       "      <td>30</td>\n",
       "      <td>NaN</td>\n",
       "    </tr>\n",
       "    <tr>\n",
       "      <th>943</th>\n",
       "      <td>885</td>\n",
       "      <td>AKA_20210127_BUV_0013</td>\n",
       "      <td>Parapercis colias</td>\n",
       "      <td>00:20:37</td>\n",
       "      <td>7.0</td>\n",
       "      <td>expert</td>\n",
       "      <td>30</td>\n",
       "      <td>NaN</td>\n",
       "    </tr>\n",
       "    <tr>\n",
       "      <th>1360</th>\n",
       "      <td>1302</td>\n",
       "      <td>AKA_20210127_BUV_0018</td>\n",
       "      <td>Pseudolabrus miles</td>\n",
       "      <td>00:16:51</td>\n",
       "      <td>3.0</td>\n",
       "      <td>expert</td>\n",
       "      <td>30</td>\n",
       "      <td>NaN</td>\n",
       "    </tr>\n",
       "    <tr>\n",
       "      <th>8717</th>\n",
       "      <td>2846</td>\n",
       "      <td>AKA_20170223_BUV_0031</td>\n",
       "      <td>Jasus edwardsii</td>\n",
       "      <td>00:11:57</td>\n",
       "      <td>1.0</td>\n",
       "      <td>expert</td>\n",
       "      <td>30</td>\n",
       "      <td>NaN</td>\n",
       "    </tr>\n",
       "    <tr>\n",
       "      <th>13055</th>\n",
       "      <td>7190</td>\n",
       "      <td>AKA_20170223_BUV_0069</td>\n",
       "      <td>Pseudolabrus miles</td>\n",
       "      <td>00:31:47</td>\n",
       "      <td>2.0</td>\n",
       "      <td>expert</td>\n",
       "      <td>30</td>\n",
       "      <td>NaN</td>\n",
       "    </tr>\n",
       "    <tr>\n",
       "      <th>6236</th>\n",
       "      <td>355</td>\n",
       "      <td>AKA_20170223_BUV_0011</td>\n",
       "      <td>Notolabrus celidotus</td>\n",
       "      <td>00:21:26</td>\n",
       "      <td>1.0</td>\n",
       "      <td>expert</td>\n",
       "      <td>30</td>\n",
       "      <td>NaN</td>\n",
       "    </tr>\n",
       "    <tr>\n",
       "      <th>12055</th>\n",
       "      <td>6189</td>\n",
       "      <td>AKA_20170223_BUV_0058</td>\n",
       "      <td>Parapercis colias</td>\n",
       "      <td>00:16:18</td>\n",
       "      <td>18.0</td>\n",
       "      <td>expert</td>\n",
       "      <td>30</td>\n",
       "      <td>NaN</td>\n",
       "    </tr>\n",
       "    <tr>\n",
       "      <th>7169</th>\n",
       "      <td>1297</td>\n",
       "      <td>AKA_20170223_BUV_0020</td>\n",
       "      <td>Parapercis colias</td>\n",
       "      <td>00:11:03</td>\n",
       "      <td>2.0</td>\n",
       "      <td>expert</td>\n",
       "      <td>30</td>\n",
       "      <td>NaN</td>\n",
       "    </tr>\n",
       "  </tbody>\n",
       "</table>\n",
       "</div>"
      ],
      "text/plain": [
       "       Unnamed: 0           DeploymentID        ScientificName TimeOfMax  \\\n",
       "4736          479  HOR_20211122_BUV_0012  Chelidonichthys kumu  00:06:11   \n",
       "7952         2081  AKA_20170223_BUV_0026    Pseudolabrus miles  00:12:00   \n",
       "6190          306  AKA_20170223_BUV_0009     Parapercis colias  00:19:26   \n",
       "7508         1636  AKA_20170223_BUV_0022  Notolabrus celidotus  00:19:51   \n",
       "7544         1672  AKA_20170223_BUV_0022     Parapercis colias  00:30:08   \n",
       "12429        6563  AKA_20170223_BUV_0061    Pseudolabrus miles  00:14:23   \n",
       "1629         1571  AKA_20210127_BUV_0023   Notolabrus fucicola  00:10:27   \n",
       "13141        7276  AKA_20170223_BUV_0069     Parapercis colias  00:31:43   \n",
       "7830         1959  AKA_20170223_BUV_0025    Pseudolabrus miles  00:33:21   \n",
       "5742         1487  HOR_20211122_BUV_0032     Parapercis colias  00:23:00   \n",
       "672           614  AKA_20210127_BUV_0009     Meuschenia scaber  00:26:43   \n",
       "13986        8121  AKA_20170223_BUV_0079   Notolabrus fucicola  00:31:36   \n",
       "2462         2404  AKA_20210127_BUV_0034    Pseudolabrus miles  00:27:26   \n",
       "943           885  AKA_20210127_BUV_0013     Parapercis colias  00:20:37   \n",
       "1360         1302  AKA_20210127_BUV_0018    Pseudolabrus miles  00:16:51   \n",
       "8717         2846  AKA_20170223_BUV_0031       Jasus edwardsii  00:11:57   \n",
       "13055        7190  AKA_20170223_BUV_0069    Pseudolabrus miles  00:31:47   \n",
       "6236          355  AKA_20170223_BUV_0011  Notolabrus celidotus  00:21:26   \n",
       "12055        6189  AKA_20170223_BUV_0058     Parapercis colias  00:16:18   \n",
       "7169         1297  AKA_20170223_BUV_0020     Parapercis colias  00:11:03   \n",
       "\n",
       "      MaxInterval AnnotatedBy  IntervalAnnotation  ConfidenceAgreement  \n",
       "4736          1.0      expert                  30                  NaN  \n",
       "7952          1.0      expert                  30                  NaN  \n",
       "6190          3.0      expert                  30                  NaN  \n",
       "7508          1.0      expert                  30                  NaN  \n",
       "7544          3.0      expert                  30                  NaN  \n",
       "12429         2.0      expert                  30                  NaN  \n",
       "1629          1.0      expert                  30                  NaN  \n",
       "13141         6.0      expert                  30                  NaN  \n",
       "7830          1.0      expert                  30                  NaN  \n",
       "5742          4.0      expert                  30                  NaN  \n",
       "672           1.0      expert                  30                  NaN  \n",
       "13986         1.0      expert                  30                  NaN  \n",
       "2462          3.0      expert                  30                  NaN  \n",
       "943           7.0      expert                  30                  NaN  \n",
       "1360          3.0      expert                  30                  NaN  \n",
       "8717          1.0      expert                  30                  NaN  \n",
       "13055         2.0      expert                  30                  NaN  \n",
       "6236          1.0      expert                  30                  NaN  \n",
       "12055        18.0      expert                  30                  NaN  \n",
       "7169          2.0      expert                  30                  NaN  "
      ]
     },
     "execution_count": 9,
     "metadata": {},
     "output_type": "execute_result"
    }
   ],
   "source": [
    "combined_df.sample(20)"
   ]
  },
  {
   "cell_type": "code",
   "execution_count": 17,
   "id": "c7b38dd8-e501-49ae-a4af-9e31afabd1bc",
   "metadata": {},
   "outputs": [
    {
     "name": "stdout",
     "output_type": "stream",
     "text": [
      "Aplodactylus arctidens\n",
      "Arripis trutta\n",
      "Bathytoshia brevicaudata\n",
      "Bodianus unimaculatus\n",
      "Cephaloscyllium isabella\n",
      "Chelidonichthys kumu\n",
      "Chirodactylus spectabilis\n",
      "Chironemus marmoratus\n",
      "Chromis dispila\n",
      "Conger verreauxi\n",
      "Congiopodus leucopaecilus\n",
      "Dipturus innominatus\n",
      "Dipturus nasutus\n",
      "Eptatretus cirrhatus\n",
      "FIXChondrichthyes\n",
      "FIXUnidentified\n",
      "FIXUnidentified epipelagic\n",
      "Galeorhinus galeus\n",
      "Gymnothorax prasinus\n",
      "Helicolenus percoides\n",
      "Hemerocoetes monopterygius\n",
      "Hypoplectrodes huntii\n",
      "Jasus edwardsii\n",
      "Latridopsis ciliaris\n",
      "Latris lineata\n",
      "Lotella rhacina\n",
      "Macroctopus maorum\n",
      "Meuschenia scaber\n",
      "Mustelus lenticulatus\n",
      "NULL SAMPLE\n",
      "Nemadactylus douglasii\n",
      "Nemadactylus macropterus\n",
      "Notolabrus celidotus\n",
      "Notolabrus cinctus\n",
      "Notolabrus fucicola\n",
      "Notorynchus cepedianus\n",
      "Odax pullus\n",
      "Pagrus auratus\n",
      "Parapercis colias\n",
      "Pseduolabrus miles\n",
      "Pseudocaranx georgianus\n",
      "Pseudolabrus miles\n",
      "Pseudophycis bachus\n",
      "Pseudophycis barbata\n",
      "Scorpis lineolata\n",
      "Scorpis violacea\n",
      "Seriola lalandi\n",
      "Squalus acanthias\n",
      "Thyrsites atun\n",
      "Trachurus novaezelandiae\n",
      "Upeneichthys lineatus\n",
      "Zeus faber\n",
      "sp1\n",
      "sp2\n",
      "sp3\n",
      "unknown\n"
     ]
    }
   ],
   "source": [
    "# check again with species name checker to make sure all is good\n",
    "species_names = combined_df[\"ScientificName\"].unique()\n",
    "for i in np.sort(species_names[1:]):\n",
    "#     print(i, end=', ')\n",
    "    print(i)\n",
    "        "
   ]
  },
  {
   "cell_type": "code",
   "execution_count": 18,
   "id": "8cda81b0",
   "metadata": {},
   "outputs": [
    {
     "data": {
      "text/plain": [
       "array([nan, 1.0, 4.0, 2.0, 3.0, 5.0, 6.0, 7.0, 9.0, 8.0, 11.0, 10.0, 17.0,\n",
       "       15.0, 12.0, 14.0, 16.0, 13.0, 23.0, 22.0, 24.0, 25.0, 19.0, 20.0,\n",
       "       18.0, 21, 'NULL SAMPLE', 0.0], dtype=object)"
      ]
     },
     "execution_count": 18,
     "metadata": {},
     "output_type": "execute_result"
    }
   ],
   "source": [
    "combined_df[\"MaxInterval\"].unique()"
   ]
  },
  {
   "cell_type": "code",
   "execution_count": 24,
   "id": "2a3083f5",
   "metadata": {},
   "outputs": [
    {
     "data": {
      "text/plain": [
       "array([nan, '00:27:56', '00:19:44', ..., '00:34:07', '00:00:05',\n",
       "       '00:00:23'], dtype=object)"
      ]
     },
     "execution_count": 24,
     "metadata": {},
     "output_type": "execute_result"
    }
   ],
   "source": [
    "combined_df[\"TimeOfMax\"].unique()"
   ]
  },
  {
   "cell_type": "code",
   "execution_count": 13,
   "id": "5540c96d-5b63-4b62-9b71-ea61516fb8e2",
   "metadata": {},
   "outputs": [
    {
     "data": {
      "text/plain": [
       "(array(['AHE_20220422_BUV', 'AKA_20210127_BUV', 'TON_20211026_BUV',\n",
       "        'AHE_20160819_BUV', 'AHE_20200301_BUV', 'HOR_20211122_BUV',\n",
       "        'AHE_20180301_BUV', 'AKA_20170223_BUV'], dtype=object),\n",
       " 8)"
      ]
     },
     "execution_count": 13,
     "metadata": {},
     "output_type": "execute_result"
    }
   ],
   "source": [
    "surveyIDs = combined_df['DeploymentID'].dropna().str[:16].unique()\n",
    "surveyIDs, len(surveyIDs)"
   ]
  },
  {
   "cell_type": "code",
   "execution_count": 14,
   "id": "381ff16a-b556-4a1d-87ad-3b0dba1bb848",
   "metadata": {},
   "outputs": [
    {
     "name": "stdout",
     "output_type": "stream",
     "text": [
      "['PAR_20120224_BUV', 'SLI_20110413_BUV', 'TON_20221205_BUV', 'RON_20210125_BUV', 'ANG_20210313_BUV', 'AHE_20220422_BUV', 'TON_20211026_BUV', 'HOR_20211122_BUV', 'KOK_20240219_BUV', 'SLI_20240124_BUV', 'TUH_20210309_BUV', 'CRP_20220407_BUV', 'SLI_20220228_BUV', 'TAW_20220407_BUV', 'KAP_20200726_BUV', 'TUH_20200830_BUV', 'AKA_20170223_BUV', 'OKU_20230327_BUV', 'OKU_20201001_BUV', 'AHE_20230515_BUV', 'WGI_20220518_BUV', 'AKA_20181216_BUV', 'HOR_20240408_BUV', 'TUH_20240307_BUV', 'AHE_20200301_BUV', 'AHE_20180301_BUV', 'AHE_20160819_BUV', 'POU_20170223_BUV', 'POU_20181216_BUV', 'AKA_20230201_BUV', 'POU_20230201_BUV', 'AKA_20210127_BUV', 'POU_20210127_BUV', 'AHE_20220422_BUV', 'AHE_20240501_BUV']\n"
     ]
    }
   ],
   "source": [
    "survey_text = \"\"\"PAR_20120224_BUV\n",
    "SLI_20110413_BUV\n",
    "TON_20221205_BUV\n",
    "RON_20210125_BUV\n",
    "ANG_20210313_BUV\n",
    "AHE_20220422_BUV\n",
    "TON_20211026_BUV\n",
    "HOR_20211122_BUV\n",
    "KOK_20240219_BUV\n",
    "SLI_20240124_BUV\n",
    "TUH_20210309_BUV\n",
    "CRP_20220407_BUV\n",
    "SLI_20220228_BUV\n",
    "TAW_20220407_BUV\n",
    "KAP_20200726_BUV\n",
    "TUH_20200830_BUV\n",
    "AKA_20170223_BUV\n",
    "OKU_20230327_BUV\n",
    "OKU_20201001_BUV\n",
    "AHE_20230515_BUV\n",
    "WGI_20220518_BUV\n",
    "AKA_20181216_BUV\n",
    "HOR_20240408_BUV\n",
    "TUH_20240307_BUV\n",
    "AHE_20200301_BUV\n",
    "AHE_20180301_BUV\n",
    "AHE_20160819_BUV\n",
    "POU_20170223_BUV\n",
    "POU_20181216_BUV\n",
    "AKA_20230201_BUV\n",
    "POU_20230201_BUV\n",
    "AKA_20210127_BUV\n",
    "POU_20210127_BUV\n",
    "AHE_20220422_BUV\n",
    "AHE_20240501_BUV\"\"\"\n",
    "surveys = survey_text.split(\"\\n\")\n",
    "print(surveys)"
   ]
  },
  {
   "cell_type": "code",
   "execution_count": 15,
   "id": "16f37378-274b-48a1-9219-60ca9cd22bf4",
   "metadata": {},
   "outputs": [
    {
     "name": "stdout",
     "output_type": "stream",
     "text": [
      "Reviewing files annotations and surveys, there are 8 SurveyIDs in common.\n",
      "The two files have the following 8 SurveyIds in common:\n",
      "['AHE_20160819_BUV', 'AHE_20180301_BUV', 'AHE_20200301_BUV', 'AHE_20220422_BUV', 'AKA_20170223_BUV', 'AKA_20210127_BUV', 'HOR_20211122_BUV', 'TON_20211026_BUV']\n",
      "The 0 SurveyIDs present only in annotations are:\n",
      "[]\n",
      "The 26 SurveyIDs present only in surveys are:\n",
      "['AHE_20230515_BUV', 'AHE_20240501_BUV', 'AKA_20181216_BUV', 'AKA_20230201_BUV', 'ANG_20210313_BUV', 'CRP_20220407_BUV', 'HOR_20240408_BUV', 'KAP_20200726_BUV', 'KOK_20240219_BUV', 'OKU_20201001_BUV', 'OKU_20230327_BUV', 'PAR_20120224_BUV', 'POU_20170223_BUV', 'POU_20181216_BUV', 'POU_20210127_BUV', 'POU_20230201_BUV', 'RON_20210125_BUV', 'SLI_20110413_BUV', 'SLI_20220228_BUV', 'SLI_20240124_BUV', 'TAW_20220407_BUV', 'TON_20221205_BUV', 'TUH_20200830_BUV', 'TUH_20210309_BUV', 'TUH_20240307_BUV', 'WGI_20220518_BUV']\n"
     ]
    }
   ],
   "source": [
    "common = set(surveyIDs) & set(surveys)\n",
    "only_in_annotations = set(surveyIDs) - set(surveys)\n",
    "only_in_surveys = set(surveys) - set(surveyIDs)\n",
    "common_list = sorted(list(common))\n",
    "only_in_annotations_list = sorted(list(only_in_annotations))\n",
    "only_in_surveys_list = sorted(list(only_in_surveys))\n",
    "\n",
    "print(f\"Reviewing files annotations and surveys, there are {len(common)} SurveyIDs in common.\" )\n",
    "print(f\"The two files have the following {len(common)} SurveyIds in common:\")\n",
    "print(common_list)\n",
    "print(f\"The {len(only_in_annotations)} SurveyIDs present only in annotations are:\")\n",
    "print(only_in_annotations_list)\n",
    "print(f\"The {len(only_in_surveys)} SurveyIDs present only in surveys are:\")\n",
    "print(only_in_surveys_list)"
   ]
  },
  {
   "cell_type": "code",
   "execution_count": 16,
   "id": "b457aff2-4122-4938-a23e-d5bda2cc2dd6",
   "metadata": {},
   "outputs": [
    {
     "data": {
      "text/html": [
       "<div>\n",
       "<style scoped>\n",
       "    .dataframe tbody tr th:only-of-type {\n",
       "        vertical-align: middle;\n",
       "    }\n",
       "\n",
       "    .dataframe tbody tr th {\n",
       "        vertical-align: top;\n",
       "    }\n",
       "\n",
       "    .dataframe thead th {\n",
       "        text-align: right;\n",
       "    }\n",
       "</style>\n",
       "<table border=\"1\" class=\"dataframe\">\n",
       "  <thead>\n",
       "    <tr style=\"text-align: right;\">\n",
       "      <th></th>\n",
       "      <th>Unnamed: 0</th>\n",
       "      <th>DeploymentID</th>\n",
       "      <th>ScientificName</th>\n",
       "      <th>TimeOfMax</th>\n",
       "      <th>MaxInterval</th>\n",
       "      <th>AnnotatedBy</th>\n",
       "      <th>IntervalAnnotation</th>\n",
       "      <th>ConfidenceAgreement</th>\n",
       "    </tr>\n",
       "  </thead>\n",
       "  <tbody>\n",
       "  </tbody>\n",
       "</table>\n",
       "</div>"
      ],
      "text/plain": [
       "Empty DataFrame\n",
       "Columns: [Unnamed: 0, DeploymentID, ScientificName, TimeOfMax, MaxInterval, AnnotatedBy, IntervalAnnotation, ConfidenceAgreement]\n",
       "Index: []"
      ]
     },
     "execution_count": 16,
     "metadata": {},
     "output_type": "execute_result"
    }
   ],
   "source": [
    "\n",
    "# Find presence of specific SurveyIDs\n",
    "df2 = combined_df[combined_df['DeploymentID'].str[:16].isin(['TON_20221205_BUV'])]\n",
    "df2\n"
   ]
  },
  {
   "cell_type": "code",
   "execution_count": 14,
   "id": "119aef98-54c9-4b76-bedc-0f69890b3a45",
   "metadata": {},
   "outputs": [
    {
     "data": {
      "text/html": [
       "<div>\n",
       "<style scoped>\n",
       "    .dataframe tbody tr th:only-of-type {\n",
       "        vertical-align: middle;\n",
       "    }\n",
       "\n",
       "    .dataframe tbody tr th {\n",
       "        vertical-align: top;\n",
       "    }\n",
       "\n",
       "    .dataframe thead th {\n",
       "        text-align: right;\n",
       "    }\n",
       "</style>\n",
       "<table border=\"1\" class=\"dataframe\">\n",
       "  <thead>\n",
       "    <tr style=\"text-align: right;\">\n",
       "      <th></th>\n",
       "      <th>Unnamed: 0</th>\n",
       "      <th>FileName</th>\n",
       "      <th>DeploymentID</th>\n",
       "      <th>ScientificName</th>\n",
       "      <th>TimeOfMax</th>\n",
       "      <th>MaxInterval</th>\n",
       "      <th>0</th>\n",
       "      <th>1</th>\n",
       "      <th>annotatedBy</th>\n",
       "      <th>interval_annotation</th>\n",
       "      <th>confidence_agreement</th>\n",
       "    </tr>\n",
       "  </thead>\n",
       "  <tbody>\n",
       "  </tbody>\n",
       "</table>\n",
       "</div>"
      ],
      "text/plain": [
       "Empty DataFrame\n",
       "Columns: [Unnamed: 0, FileName, DeploymentID, ScientificName, TimeOfMax, MaxInterval, 0, 1, annotatedBy, interval_annotation, confidence_agreement]\n",
       "Index: []"
      ]
     },
     "execution_count": 14,
     "metadata": {},
     "output_type": "execute_result"
    }
   ],
   "source": [
    "df2.drop_duplicates()"
   ]
  },
  {
   "cell_type": "code",
   "execution_count": 31,
   "id": "4631c6f6-957f-4701-9406-b121398182bb",
   "metadata": {},
   "outputs": [
    {
     "data": {
      "text/plain": [
       "array([nan, 21, 3, 14, 1, 2, 13, 6, 7, '>20', 27, 45, 25, 11, 30, '>30',\n",
       "       5, 26, 20, 8, 17, 16, 12, 15, 10, 32, 9, 35, 24, 34, 22, 28, 40, 4,\n",
       "       29, ' ', '  ', 23, 19, 18, 'BAD DEPLOYMENT', 'NULL SAMPLE'],\n",
       "      dtype=object)"
      ]
     },
     "execution_count": 31,
     "metadata": {},
     "output_type": "execute_result"
    }
   ],
   "source": []
  }
 ],
 "metadata": {
  "kernelspec": {
   "display_name": "Python 3 (ipykernel)",
   "language": "python",
   "name": "python3"
  },
  "language_info": {
   "codemirror_mode": {
    "name": "ipython",
    "version": 3
   },
   "file_extension": ".py",
   "mimetype": "text/x-python",
   "name": "python",
   "nbconvert_exporter": "python",
   "pygments_lexer": "ipython3",
   "version": "3.8.16"
  },
  "toc": {
   "base_numbering": 1,
   "nav_menu": {},
   "number_sections": true,
   "sideBar": true,
   "skip_h1_title": false,
   "title_cell": "Table of Contents",
   "title_sidebar": "Contents",
   "toc_cell": true,
   "toc_position": {},
   "toc_section_display": true,
   "toc_window_display": true
  }
 },
 "nbformat": 4,
 "nbformat_minor": 5
}
