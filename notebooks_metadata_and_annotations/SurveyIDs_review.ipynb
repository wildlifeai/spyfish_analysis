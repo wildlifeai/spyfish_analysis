{
 "cells": [
  {
   "cell_type": "markdown",
   "id": "50132ca8-d351-4d2e-aa03-c3cd0d3b4ef8",
   "metadata": {},
   "source": [
    "# Match SurveyIDs across 2 files\n",
    "This notebook checks which SurveyIDs are present in one or both files"
   ]
  },
  {
   "cell_type": "code",
   "execution_count": 1,
   "id": "a997c800-ab9f-4023-a351-f9abd70dfa07",
   "metadata": {},
   "outputs": [],
   "source": [
    "import pandas as pd\n",
    "\n",
    "from collections import defaultdict\n",
    "from pprint import pprint\n",
    "from ipyfilechooser import FileChooser\n",
    "from IPython.display import display"
   ]
  },
  {
   "cell_type": "markdown",
   "id": "e919817e-03d8-4d00-837e-36778363ee14",
   "metadata": {},
   "source": [
    "#### Find matching SurveyIds in two files\n",
    "Further below is the work in progress"
   ]
  },
  {
   "cell_type": "code",
   "execution_count": 18,
   "id": "4b5b920f-4c46-4077-8b60-fd1e39efa3c2",
   "metadata": {},
   "outputs": [],
   "source": [
    "def get_df_surveyIDs(file_path):\n",
    "    if file_path.endswith(\".csv\"):\n",
    "        df = pd.read_csv(file_path)\n",
    "    else:\n",
    "        df = pd.read_excel(file_path)\n",
    "    return df[\"SurveyID\"].dropna()"
   ]
  },
  {
   "cell_type": "code",
   "execution_count": 19,
   "id": "c617378b-098e-41b4-9e8f-cb92f71f27b7",
   "metadata": {
    "scrolled": true
   },
   "outputs": [],
   "source": [
    "def find_matching_surveyIDs(file_path_1, file_path_2):\n",
    "    f1_surveyIDs = get_df_surveyIDs(file_path_1)\n",
    "    f2_surveyIDs = get_df_surveyIDs(file_path_2)\n",
    "    \n",
    "    common = set(f1_surveyIDs) & set(f2_surveyIDs)\n",
    "    only_in_f1 = set(f1_surveyIDs) - set(f2_surveyIDs)\n",
    "    only_in_f2 = set(f2_surveyIDs) - set(f1_surveyIDs)\n",
    "    \n",
    "    common_list = sorted(list(common))\n",
    "    only_in_f1_list = sorted(list(only_in_f1))\n",
    "    only_in_f2_list = sorted(list(only_in_f2))\n",
    "    \n",
    "    print(f\"Reviewing files {file_path_1} and {file_path_2}\" )\n",
    "    print(f\"The two files have the following {len(common)} SurveyIds in common:\")\n",
    "    print(common_list)\n",
    "    print(f\"The {len(only_in_f1)} SurveyIDs present only in {file_path_1} are:\")\n",
    "    print(only_in_f1_list)\n",
    "    print(f\"The {len(only_in_f2)} SurveyIDs present only in {file_path_2} are:\")\n",
    "    print(only_in_f2_list)\n",
    "    return common, only_in_f1, only_in_f2"
   ]
  },
  {
   "cell_type": "code",
   "execution_count": 20,
   "id": "ea5cb23b-0e9d-42be-8d3b-8f70594a0503",
   "metadata": {},
   "outputs": [
    {
     "data": {
      "application/vnd.jupyter.widget-view+json": {
       "model_id": "130d3de4f6b34fbb9984e3b52e6eb2e0",
       "version_major": 2,
       "version_minor": 0
      },
      "text/plain": [
       "FileChooser(path='/Users/kalindi/Desktop/dt/spyfish/notebooks', filename='', title='<b>Select the first file t…"
      ]
     },
     "metadata": {},
     "output_type": "display_data"
    }
   ],
   "source": [
    "file_1_chooser = FileChooser(title='<b>Select the first file to compare:</b>')\n",
    "file_1_chooser.filter_pattern = ['*.csv', '*.xls*']\n",
    "display(file_1_chooser)\n"
   ]
  },
  {
   "cell_type": "code",
   "execution_count": 25,
   "id": "0e07ab14-5712-4b10-88d2-0fc390ecd6f0",
   "metadata": {},
   "outputs": [
    {
     "data": {
      "text/plain": [
       "'/Users/kalindi/Desktop/dt/spyfish/og/IDcomparison/List of files to merge.xlsx'"
      ]
     },
     "execution_count": 25,
     "metadata": {},
     "output_type": "execute_result"
    }
   ],
   "source": [
    "file_path_1 = file_1_chooser.selected\n",
    "assert file_path_1 != None, \"Select file 1 in the cell above.\"\n",
    "file_path_1"
   ]
  },
  {
   "cell_type": "code",
   "execution_count": 26,
   "id": "82081203-0066-4f5c-9446-c23f4c246f42",
   "metadata": {},
   "outputs": [
    {
     "data": {
      "application/vnd.jupyter.widget-view+json": {
       "model_id": "54ee4b26895b41df97d7fb5ee8d70072",
       "version_major": 2,
       "version_minor": 0
      },
      "text/plain": [
       "FileChooser(path='/Users/kalindi/Desktop/dt/spyfish/notebooks', filename='', title='<b>Select the second file …"
      ]
     },
     "metadata": {},
     "output_type": "display_data"
    }
   ],
   "source": [
    "file_2_chooser = FileChooser(title='<b>Select the second file to compare:</b>')\n",
    "file_2_chooser.filter_pattern = ['*.csv', '*.xls*']\n",
    "display(file_2_chooser)"
   ]
  },
  {
   "cell_type": "code",
   "execution_count": 27,
   "id": "0ab33d48-3b3c-4d0f-bf8f-30b8ecf6caa3",
   "metadata": {},
   "outputs": [
    {
     "data": {
      "text/plain": [
       "'/Users/kalindi/Desktop/dt/spyfish/og/IDcomparison/surveys_buv_doc.xlsx'"
      ]
     },
     "execution_count": 27,
     "metadata": {},
     "output_type": "execute_result"
    }
   ],
   "source": [
    "file_path_2 = file_2_chooser.selected\n",
    "assert file_path_2 != None, \"Select file 2 in the cell above.\"\n",
    "file_path_2"
   ]
  },
  {
   "cell_type": "code",
   "execution_count": 28,
   "id": "64944333",
   "metadata": {},
   "outputs": [
    {
     "name": "stdout",
     "output_type": "stream",
     "text": [
      "Reviewing files /Users/kalindi/Desktop/dt/spyfish/og/IDcomparison/List of files to merge.xlsx and /Users/kalindi/Desktop/dt/spyfish/og/IDcomparison/surveys_buv_doc.xlsx\n",
      "The two files have the following 32 SurveyIds in common:\n",
      "['AHE_20160819_BUV', 'AHE_20180301_BUV', 'AHE_20200301_BUV', 'AHE_20220422_BUV', 'AHE_20230515_BUV', 'AHE_20240501_BUV', 'AKA_20170223_BUV', 'AKA_20181216_BUV', 'AKA_20210127_BUV', 'AKA_20230201_BUV', 'ANG_20210313_BUV', 'CRP_20220407_BUV', 'HOR_20211122_BUV', 'HOR_20240408_BUV', 'KOK_20240219_BUV', 'OKU_20201001_BUV', 'OKU_20230327_BUV', 'PAR_20120224_BUV', 'PKI_20240701_BUV', 'POU_20170223_BUV', 'POU_20181216_BUV', 'POU_20210127_BUV', 'POU_20230201_BUV', 'RON_20210125_BUV', 'SLI_20110413_BUV', 'TAW_20220407_BUV', 'TON_20211026_BUV', 'TON_20221205_BUV', 'TUH_20200830_BUV', 'TUH_20210309_BUV', 'TUH_20240307_BUV', 'WGI_20220518_BUV']\n",
      "The 13 SurveyIDs present only in /Users/kalindi/Desktop/dt/spyfish/og/IDcomparison/List of files to merge.xlsx are:\n",
      "['AHE_20210301_BUV', 'HAU_20220810_BUV', 'HOR_20231201_BUV', 'KAP_20210201_BUV', 'KAP_20231018_BUV', 'KOK_20230219_BUV', 'KPT_20200726_BUV', 'PKI_20150501_BUV', 'RON_20230130_BUV', 'TAE_20220228_BUV', 'TAE_20240124_BUV', 'TAP_20220201_BUV', 'TEST_20240618_BUV']\n",
      "The 4 SurveyIDs present only in /Users/kalindi/Desktop/dt/spyfish/og/IDcomparison/surveys_buv_doc.xlsx are:\n",
      "['KAP_20200726_BUV', 'SLI_20220228_BUV', 'SLI_20240124_BUV', 'SurveyID']\n"
     ]
    }
   ],
   "source": [
    "# example usage\n",
    "common, only_in_f1, only_in_f2 = find_matching_surveyIDs(file_path_1, file_path_2)"
   ]
  },
  {
   "cell_type": "markdown",
   "id": "07b498d2-067e-4e08-99f2-2c7be994d2d4",
   "metadata": {},
   "source": [
    "### Find potential pairs\n",
    "Combine SurveyIDs with the same Marine reserve code. \n",
    "\n",
    "Check visually to see if there are any small date discrepancies indicating that they are the same SurveyID"
   ]
  },
  {
   "cell_type": "code",
   "execution_count": 29,
   "id": "3642d139-cc4b-4f90-8d54-b98109cc8321",
   "metadata": {},
   "outputs": [
    {
     "name": "stdout",
     "output_type": "stream",
     "text": [
      "Potential pairs between SurveyIDs only found in the two files:\n",
      "{'KAP': [['KAP_20210201_BUV', 'KAP_20231018_BUV'], ['KAP_20200726_BUV']]}\n",
      "Potential pairs between SurveyIDs found between the first file and the SurveyIDs in common\n",
      "{'AHE': [['AHE_20200301_BUV',\n",
      "          'AHE_20220422_BUV',\n",
      "          'AHE_20180301_BUV',\n",
      "          'AHE_20230515_BUV',\n",
      "          'AHE_20240501_BUV',\n",
      "          'AHE_20160819_BUV'],\n",
      "         ['AHE_20210301_BUV']],\n",
      " 'HOR': [['HOR_20240408_BUV', 'HOR_20211122_BUV'], ['HOR_20231201_BUV']],\n",
      " 'KOK': [['KOK_20240219_BUV'], ['KOK_20230219_BUV']],\n",
      " 'PKI': [['PKI_20240701_BUV'], ['PKI_20150501_BUV']],\n",
      " 'RON': [['RON_20210125_BUV'], ['RON_20230130_BUV']]}\n",
      "Potential pairs between SurveyIDs found between the first file and the SurveyIDs in common\n",
      "{'SLI': [['SLI_20110413_BUV'], ['SLI_20220228_BUV', 'SLI_20240124_BUV']]}\n"
     ]
    }
   ],
   "source": [
    "# create nested list to be used with the defaultdict in potential_pairn\n",
    "def nl():\n",
    "    return [[],[]]\n",
    "    \n",
    "def potential_pairs(survey_list_1, survey_list_2):\n",
    "    possible_pairs = defaultdict(nl)\n",
    "    for s_id in survey_list_1:\n",
    "        possible_pairs[s_id[:3]][0].append(s_id)\n",
    "        \n",
    "    for s_id in survey_list_2:\n",
    "        possible_pairs[s_id[:3]][1].append(s_id)\n",
    "\n",
    "    possible_matches = {}\n",
    "    for k, (s1, s2) in possible_pairs.items():\n",
    "        if s1 != [] and s2 != []:\n",
    "            possible_matches[k] = [s1, s2]\n",
    "    return possible_matches\n",
    "\n",
    "print(\"Potential pairs between SurveyIDs only found in the two files:\")\n",
    "pprint(potential_pairs(only_in_f1, only_in_f2)) \n",
    "print(\"Potential pairs between SurveyIDs found between the first file and the SurveyIDs in common\")\n",
    "pprint(potential_pairs(common, only_in_f1)) \n",
    "print(\"Potential pairs between SurveyIDs found between the first file and the SurveyIDs in common\")\n",
    "pprint(potential_pairs(common, only_in_f2)) \n",
    "\n"
   ]
  },
  {
   "cell_type": "code",
   "execution_count": null,
   "id": "7951aaa0-c946-43ef-9dce-af4b7d0b1894",
   "metadata": {},
   "outputs": [],
   "source": []
  }
 ],
 "metadata": {
  "kernelspec": {
   "display_name": "Python 3 (ipykernel)",
   "language": "python",
   "name": "python3"
  },
  "language_info": {
   "codemirror_mode": {
    "name": "ipython",
    "version": 3
   },
   "file_extension": ".py",
   "mimetype": "text/x-python",
   "name": "python",
   "nbconvert_exporter": "python",
   "pygments_lexer": "ipython3",
   "version": "3.8.16"
  }
 },
 "nbformat": 4,
 "nbformat_minor": 5
}
