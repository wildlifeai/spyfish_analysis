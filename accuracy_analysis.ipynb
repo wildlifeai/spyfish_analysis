{
  "cells": [
    {
      "cell_type": "markdown",
      "metadata": {
        "id": "view-in-github",
        "colab_type": "text"
      },
      "source": [
        "<a href=\"https://colab.research.google.com/github/wildlifeai/spyfish_analysis/blob/main/accuracy_analysis.ipynb\" target=\"_parent\"><img src=\"https://colab.research.google.com/assets/colab-badge.svg\" alt=\"Open In Colab\"/></a>"
      ]
    },
    {
      "cell_type": "markdown",
      "source": [
        "# What analysed videos do we have?\n",
        "\n",
        "**NOTE THAT CHANGES THINGS**: the citsci datasets are the aggregated\n",
        "classifications for *each 10 seconds of video, not for each deployment*.\n",
        "We want to compare between deployments, so I’ll need to do that myself\n",
        "with a `group_by` kind of method before I start adding absent species to\n",
        "the dataset."
      ],
      "metadata": {
        "id": "ErZW9wr67Orm"
      },
      "id": "ErZW9wr67Orm"
    },
    {
      "cell_type": "markdown",
      "source": [
        "## Citizen scientist videos"
      ],
      "metadata": {
        "id": "slgJk7CT7k6A"
      },
      "id": "slgJk7CT7k6A"
    },
    {
      "cell_type": "markdown",
      "source": [
        "100% complete on Zooniverse:\n",
        "\n",
        "-   Te Whanganui o Hei (Cathedral Cove) Marine Reserve\n",
        "-   LONG SPECIES LIST: Te Tapuwae o Rongokako Marine Reserve (movies) -\n",
        "    **has biologist for comparison**\n",
        "    -   The siteName column has different sites to the filename column\n",
        "        ASK\n",
        "-   LONG SPECIES LIST: Kāpiti Marine Reserve (movies)\n",
        "-   LONG SPECIES LIST: Tūhua Marine Reserve (movies) - **has biologist\n",
        "    for comparison**\n",
        "-   LONG SPECIES LIST: Tapuae Marine Reserve (movies) - **has biologist\n",
        "    for comparison**\n",
        "-   LONG SPECIES LIST: Goat Island Marine Reserve (movies)\n",
        "\n",
        "Still ongoing:\n",
        "\n",
        "-   Tapuae Marine Reserve (movies) - 94% complete - **has biologist for\n",
        "    comparison**\n",
        "-   Tonga Island Marine Reserve (movies) - 64% complete - **has\n",
        "    biologist for comparison**"
      ],
      "metadata": {
        "id": "6zCaCrHR7TVi"
      },
      "id": "6zCaCrHR7TVi"
    },
    {
      "cell_type": "markdown",
      "source": [
        "## Biologist-analysed videos"
      ],
      "metadata": {
        "id": "3ElELjqs7nVl"
      },
      "id": "3ElELjqs7nVl"
    },
    {
      "cell_type": "markdown",
      "metadata": {
        "id": "42a14256-91c8-446e-92a7-ab6bf11055d3"
      },
      "source": [
        "\n",
        "\n",
        "Datasets that are in the correct format are:\n",
        "\n",
        "-   Copy of BUV data entry sheet for **Horoirangi 2022** example sites\n",
        "    jane.xlsx - *Sheet2*\n",
        "-   MPAMAR data **Akaroa Pohatu BUV 2021** - Video analysis data sheet -\n",
        "    DOC-7166069.xlsm\n",
        "-   MPAMAR Data BUV **Akaroa Pohatu 2017** Video analysis data\n",
        "    sheet.xlsm\n",
        "-   MPAMAR Data BUV **Akaroa Pohatu 2019** Video analysis data\n",
        "    sheet.xlsm\n",
        "-   MPAMAR Data BUV **Horoirangi 2021** - Video analysis sheet.xlsm\n",
        "-   MPAMAR Data BUV **Tapuae 2021** Video analysis sheet.xlsm\n",
        "-   MPAMAR Data BUV **Te Angiangi 2021** Video analysis data sheet.xlsm\n",
        "-   MPAMAR Data BUV **Te Tapuwae o Rongokako 2021** - Video analysis\n",
        "    sheet - DOC-6731514.xlsm\n",
        "-   MPAMAR Data BUV **Tonga Island 2021** Video analysis data sheet.xlsm\n",
        "-   MPAMAR Data BUV **Tuhua 2021** Video analysis sheet -\n",
        "    DOC-6891090.xlsm\n",
        "\n",
        "Almost correct format but not finished:\n",
        "\n",
        "-   MPAMAR Data BUV **Tuhua 2020** Video analysis sheet.xlsm - no\n",
        "    *MaxCount compiled* sheet, but an *All counts compiled* sheet is\n",
        "    present\n",
        "\n",
        "Datasets not in the correct format are:\n",
        "\n",
        "-   BUV data entry sheet for Horoirangi 2022 example sites.xlsx - but\n",
        "    this one has a copy with the correct format as one sheet\n",
        "-   MPAMAR Data BUV **Horoirangi Tonga Island MR 2004** -\n",
        "    DOC-6831278.xlsx\n",
        "-   MPAMAR Data BUV **Tapuae MR 2011** - DOC-1243658.xlsx\n",
        "-   MPAMAR Data BUV **Tuhua MR 2004** - DOC-1159857.xlsx\n",
        "-   MRMDATA - BUV - **Long Bay Okura Marine Reserve 2021** -\n",
        "    DOC-7164369.xlsx\n",
        "-   **Poor Knights Islands BUV analysis April 2015** - DOC-2654059.xlsx"
      ],
      "id": "42a14256-91c8-446e-92a7-ab6bf11055d3"
    },
    {
      "cell_type": "markdown",
      "source": [
        "# Import data\n",
        "\n",
        "Here we import the data for videos that have been analysed by both\n",
        "biologists and citizen scientists. Currently, that is these three:\n",
        "\n",
        "-   LONG SPECIES LIST: Tapuae Marine Reserve (movies)\n",
        "-   LONG SPECIES LIST: Te Tapuwae o Rongokako Marine Reserve (movies)\n",
        "-   LONG SPECIES LIST: Tūhua Marine Reserve (movies)\n",
        "\n",
        "**ASK** or check:\n",
        "\n",
        "Add a common name column\n",
        "\n",
        "The biologist data needs a common name column (`COMMONNAME`) written in\n",
        "the same format/style as Zooniverse’s exported classifications. So the\n",
        "common names need to be all caps with no spaces or hyphens (e.g. BLUECOD\n",
        "and SHORTTAILEDSTINGRAY), and NULL SAMPLE needs to be written as\n",
        "NOTHINGHERE instead. Write this in and save the file before importing it\n",
        "into R."
      ],
      "metadata": {
        "id": "NWd7rQ1t70zo"
      },
      "id": "NWd7rQ1t70zo"
    },
    {
      "cell_type": "markdown",
      "source": [
        "## Connect to the Google Drive with the excel files"
      ],
      "metadata": {
        "id": "rOlN1K3s88Cq"
      },
      "id": "rOlN1K3s88Cq"
    },
    {
      "cell_type": "code",
      "source": [
        "from google.colab import drive\n",
        "drive.mount('/content/drive')"
      ],
      "metadata": {
        "colab": {
          "base_uri": "https://localhost:8080/"
        },
        "id": "SXE4kuIdANDp",
        "outputId": "b97758ef-18a4-43c4-ffcf-1534df92da7a"
      },
      "id": "SXE4kuIdANDp",
      "execution_count": 1,
      "outputs": [
        {
          "output_type": "stream",
          "name": "stdout",
          "text": [
            "Mounted at /content/drive\n"
          ]
        }
      ]
    },
    {
      "cell_type": "markdown",
      "source": [
        "Load the R extension for python"
      ],
      "metadata": {
        "id": "tCFOCi5VEXa8"
      },
      "id": "tCFOCi5VEXa8"
    },
    {
      "cell_type": "code",
      "source": [
        "%load_ext rpy2.ipython"
      ],
      "metadata": {
        "id": "KXcrO5wmAf5a"
      },
      "id": "KXcrO5wmAf5a",
      "execution_count": 2,
      "outputs": []
    },
    {
      "cell_type": "markdown",
      "source": [
        "## Specify the path to the folder with the excel data"
      ],
      "metadata": {
        "id": "knPGKmk_FL-X"
      },
      "id": "knPGKmk_FL-X"
    },
    {
      "cell_type": "code",
      "source": [
        "%%R\n",
        "path_data <- '/content/drive/MyDrive/Projects/Spyfish Aotearoa/hiromi_zooniverse/Accuracy analysis/data'"
      ],
      "metadata": {
        "id": "YCfh-C4eFRmt"
      },
      "id": "YCfh-C4eFRmt",
      "execution_count": 3,
      "outputs": []
    },
    {
      "cell_type": "markdown",
      "source": [
        "# Save the paths of each excel file"
      ],
      "metadata": {
        "id": "CUVdsY7JEh0K"
      },
      "id": "CUVdsY7JEh0K"
    },
    {
      "cell_type": "code",
      "source": [
        "%%R\n",
        "bio_tapuae_path <- paste(path_data, 'MPAMAR Data BUV Tapuae 2021 Video analysis sheet .xlsm', sep=\"/\")\n",
        "bio_te_tapuwae_path <- paste(path_data, 'MPAMAR Data BUV Te Tapuwae o Rongokako 2021 - Video analysis sheet - DOC-6731514.xlsm', sep=\"/\")\n",
        "bio_tuhua_path <-  paste(path_data, 'MPAMAR Data BUV Tuhua 2021 Video analysis sheet - DOC-6891090.xlsm', sep=\"/\")\n",
        "\n",
        "citsci_tapuae_path <- paste(path_data, 'Zooniverse - Long Species List Tapuae 2023-07-21.csv', sep=\"/\")\n",
        "citsci_te_tapuwae_path <- paste(path_data, 'Zooniverse - Long Species List Te Tapuwae o Rongokako 2023-07-13.csv', sep=\"/\")\n",
        "citsci_tuhua_path <- paste(path_data, 'Zooniverse - Long Species List Tuhua 2023-07-21.csv', sep=\"/\")"
      ],
      "metadata": {
        "id": "XGNv24SRBWFO"
      },
      "id": "XGNv24SRBWFO",
      "execution_count": 6,
      "outputs": []
    },
    {
      "cell_type": "markdown",
      "source": [
        "## Read in biologist data"
      ],
      "metadata": {
        "id": "Gwt8e_3Q5_3F"
      },
      "id": "Gwt8e_3Q5_3F"
    },
    {
      "cell_type": "code",
      "source": [
        "%%R\n",
        "#Tapuae\n",
        "library(readxl)\n",
        "bio_tapuae <- read_excel(bio_tapuae_path, sheet = \"MaxCount compiled\")\n",
        "head(bio_tapuae)\n",
        "str(bio_tapuae)\n",
        "\n",
        "#Te Tapuwae o Rongokako\n",
        "bio_te_tapuwae <- read_excel(bio_te_tapuwae_path, sheet = \"MaxCount compiled\")\n",
        "head(bio_te_tapuwae)\n",
        "str(bio_te_tapuwae)\n",
        "\n",
        "#Tūhua\n",
        "bio_tuhua <- read_excel(bio_tuhua_path, sheet = \"MaxCount compiled\")\n",
        "head(bio_tuhua)\n",
        "str(bio_tuhua)"
      ],
      "metadata": {
        "id": "XzH_TfVM6KpJ"
      },
      "id": "XzH_TfVM6KpJ",
      "execution_count": null,
      "outputs": []
    },
    {
      "cell_type": "markdown",
      "source": [
        "## Read in citizen scientist data\n"
      ],
      "metadata": {
        "id": "HxhquSjn8S7n"
      },
      "id": "HxhquSjn8S7n"
    },
    {
      "cell_type": "code",
      "source": [
        "%%R\n",
        "#Tapuae\n",
        "citsci_tapuae <- read.csv(citsci_tapuae_path)\n",
        "head(citsci_tapuae)\n",
        "str(citsci_tapuae)\n",
        "\n",
        "#Te Tapuwae o Rongokako\n",
        "citsci_te_tapuwae <- read.csv(citsci_te_tapuwae_path)\n",
        "head(citsci_te_tapuwae)\n",
        "str(citsci_te_tapuwae)\n",
        "\n",
        "#Tūhua\n",
        "citsci_tuhua <- read.csv(citsci_tuhua_path)\n",
        "head(citsci_tuhua)\n",
        "str(citsci_tuhua)"
      ],
      "metadata": {
        "id": "qk6_VHbe8VBw"
      },
      "id": "qk6_VHbe8VBw",
      "execution_count": null,
      "outputs": []
    },
    {
      "cell_type": "markdown",
      "source": [
        "Potentially useful variables for the accuracy analysis are:\n",
        "\n",
        "**Biologists:**\n",
        "\n",
        "-   SurveyName\n",
        "-   LinkToMarineReserve\n",
        "-   IsLongTermMonitoring\n",
        "-   **SiteID**\n",
        "-   Depth\n",
        "-   UnderwaterVisibility\n",
        "-   IsControlSite\n",
        "-   IsNullSample\n",
        "-   IsBadDeployment\n",
        "-   **ScientificName**\n",
        "-   **MaxN**\n",
        "-   **TimeOfMaxN** - not so important for data, important for still\n",
        "    frames workflow\n",
        "-   **COMMONNAME** - same as Zooniverse label, I wrote this in, includes\n",
        "    NOTHINGHERE\n",
        "\n",
        "**Citizen scientists:**\n",
        "\n",
        "-   **label** - species\n",
        "-   **first_seen** = TimeOfMaxN\n",
        "-   **how_many** = MaxN\n",
        "-   **filename** - has site name in it\n",
        "-   **siteName** - Tuhua is fine, but Te\n",
        "-   classifications_count\n",
        "-   retirement_reason\n",
        "-   n_users\n",
        "-   SurveyID\n",
        "-   subject_ids"
      ],
      "metadata": {
        "id": "yxXWrqMu6Q5-"
      },
      "id": "yxXWrqMu6Q5-"
    },
    {
      "cell_type": "markdown",
      "source": [
        "# Preparing the datasets\n",
        "\n",
        "The site ID info is in the column SiteID in biologist classifications\n",
        "and the column siteName in citizen scientist classifications.\n",
        "\n",
        "-   **ASK**: **the siteName column and the site name in the movie file\n",
        "    name is different in Te Tapuwae’s citsci dataset. Leave Te Tapuwae\n",
        "    for now.** This isn’t a problem with the other two.\n",
        "\n",
        "### Rename columns to match and round biologist MaxN\n",
        "\n",
        "-   **ASK**: why do the biologist MaxN’s have so many decimal points?\n"
      ],
      "metadata": {
        "id": "j1fWCoKl8cWP"
      },
      "id": "j1fWCoKl8cWP"
    },
    {
      "cell_type": "code",
      "source": [
        "%%R\n",
        "library(dplyr)\n",
        "\n",
        "#Function to process citsci dataset\n",
        "citsci_process <- function(df) {\n",
        "  df %>%\n",
        "    rename(citsci_species = label,\n",
        "         citsci_first_seen = first_seen,\n",
        "         citsci_how_many = how_many,\n",
        "         siteID = siteName)\n",
        "}\n",
        "\n",
        "#Processing the datasets\n",
        "citsci_tapuae <- citsci_process(citsci_tapuae)\n",
        "str(citsci_tapuae)\n",
        "citsci_tuhua <- citsci_process(citsci_tuhua)\n",
        "\n",
        "#Function to process biologist dataset\n",
        "bio_process <- function(df) {\n",
        "\n",
        "  #Round MaxN values\n",
        "  df %>%\n",
        "    mutate(TimeOfMaxN = round(as.numeric(TimeOfMaxN)))\n",
        "\n",
        "  #Rename columns\n",
        "  df %>%\n",
        "    rename(bio_species = COMMONNAME,\n",
        "         bio_first_seen = TimeOfMaxN,\n",
        "         bio_how_many = MaxN,\n",
        "         siteID = SiteID)\n",
        "}\n",
        "\n",
        "#Processing the datasets\n",
        "bio_tapuae <- bio_process(bio_tapuae)\n",
        "bio_tuhua <- bio_process(bio_tuhua)"
      ],
      "metadata": {
        "id": "GFA4AC9T6XII"
      },
      "id": "GFA4AC9T6XII",
      "execution_count": null,
      "outputs": []
    },
    {
      "cell_type": "markdown",
      "source": [
        "# Adding species absences\n",
        "\n",
        "It will be helpful to include species whose MAXcount is zero in the\n",
        "dataset so we can compare those as well, particularly if the biologists\n",
        "notice something that the citizen scientists don’t. Currently Zooniverse\n",
        "and biologist data shows species presences, and when nothing appears at\n",
        "all it says “NULL DEPLOYMENT” (biologist data) or “NOTHINGHERE”\n",
        "(Zooniverse data).\n",
        "\n",
        "## Testing adding species absences with a smaller dataset\n",
        "\n",
        "Below, I specified the Zooniverse species list for Tūhua, and made it so\n",
        "that the species absences are also recorded in the dataset, and that\n",
        "nothing here results in species absences for all the species. Bad\n",
        "deployments are deleted.\n",
        "\n"
      ],
      "metadata": {
        "id": "K134veyt6bwK"
      },
      "id": "K134veyt6bwK"
    },
    {
      "cell_type": "code",
      "source": [
        "%%R\n",
        "#Create the original \"test_bio_tuhua\" dataset (semi mock, semi real)\n",
        "test_bio_tuhua <- data.frame(\n",
        "  bio_species = c(\"SPOTTY\", \"SCARLETWRASSE\", \"MORAYEEL\", \"GOATFISH\", \"SCARLETWRASSE\", \"REDPIGFISH\", \"SNAPPER\", \"NOTHINGHERE\", \"MORAYEEL\", \"SNAPPER\", \"SCORPIONFISH\", \"SCHOOLSHARK\"),\n",
        "  bio_first_seen = c(0, 0, 0, 0, 0, 0, 0, NA, 0, 0, 2, 5),\n",
        "  bio_how_many = c(1, 1, 1, 1, 1, 1, 3, NA, 2, 4, 1, 8),\n",
        "  siteID = c(\"TUH_005\", \"TUH_005\", \"TUH_005\", \"TUH_005\", \"TUH_005\", \"TUH_005\", \"TUH_005\", \"TUH_006\", \"TUH_006\", \"TUH_009\", \"TUH_009\", \"TUH_009\"),\n",
        "  stringsAsFactors = FALSE\n",
        ")\n",
        "\n",
        "#Create the species list\n",
        "species_list <- c(\n",
        "  \"BANDEDWRASSE\", \"BLUEMAOMAO\", \"BLUEMOKI\",\n",
        "  \"BUTTERFLYPERCH\", \"EAGLERAY\", \"GOATFISH\", \"GREENBONEBUTTERFISH\",\n",
        "  \"HIWIHIWI\", \"JACKMACKEREL\",\"KAHAWAI\", \"KINGFISH\", \"KOHERU\",\n",
        "  \"MARBLEFISH\", \"MORAYEEL\", \"PINKMAOMAO\", \"PORAE\", \"REDANDHALFBANDEDPERCHES\",\n",
        "  \"REDMOKI\", \"REDPIGFISH\", \"SANDAGERSWRASSE\", \"SCARLETWRASSE\",\n",
        "  \"SHORTTAILEDSTINGRAY\", \"SILVERSWEEP\", \"SINGLESPOTDEMOISELLE\",\n",
        "  \"SMOOTHLEATHERJACKET\", \"SNAPPER\", \"SPOTTY\", \"TARAKIHI\",\n",
        "  \"TREVALLY\", \"TWOSPOTDEMOISELLE\", \"MARINEMAMMAL\", \"OTHER\"\n",
        ")\n",
        "\n",
        "#Function to add missing species rows for a given siteID\n",
        "add_missing_bio_species <- function(df, site_id) {\n",
        "  existing_species <- df$bio_species[df$siteID == site_id]\n",
        "  missing_species <- setdiff(species_list, existing_species)\n",
        "\n",
        "  new_rows <- data.frame(\n",
        "    bio_species = missing_species,\n",
        "    bio_first_seen = rep(NA, length(missing_species)),\n",
        "    bio_how_many = rep(0, length(missing_species)),\n",
        "    siteID = rep(site_id, length(missing_species)),\n",
        "    stringsAsFactors = FALSE\n",
        "  )\n",
        "\n",
        "  df <- rbind(df, new_rows)\n",
        "  return(df)\n",
        "}\n",
        "\n",
        "#Removing rows with \"NOTHINGHERE\" and adding missing species rows\n",
        "test_bio_tuhua <- test_bio_tuhua[test_bio_tuhua$bio_species != \"NOTHINGHERE\", ]\n",
        "unique_sites <- unique(test_bio_tuhua$siteID)\n",
        "\n",
        "for (site in unique_sites) {\n",
        "  test_bio_tuhua <- add_missing_bio_species(test_bio_tuhua, site)\n",
        "}\n",
        "\n",
        "#Remove rows with \"BADDEPLOYMENT\"\n",
        "test_bio_tuhua <- test_bio_tuhua[test_bio_tuhua$bio_species != \"BADDEPLOYMENT\", ]\n",
        "\n",
        "#Replace species not in the species list with \"OTHER\"\n",
        "test_bio_tuhua$bio_species[!(test_bio_tuhua$bio_species %in% species_list)] <- \"OTHER\"\n",
        "\n",
        "#Compile rows with \"OTHER\" species into one row per siteID\n",
        "other_rows <- test_bio_tuhua[test_bio_tuhua$bio_species == \"OTHER\", ]\n",
        "unique_sites <- unique(other_rows$siteID)\n",
        "\n",
        "consolidated_rows <- data.frame(\n",
        "  bio_species = \"OTHER\",\n",
        "  bio_first_seen = NA,\n",
        "  bio_how_many = sapply(unique_sites, function(site) sum(other_rows$bio_how_many[other_rows$siteID == site])),\n",
        "  siteID = unique_sites,\n",
        "  stringsAsFactors = FALSE\n",
        ")\n",
        "\n",
        "test_bio_tuhua <- test_bio_tuhua[test_bio_tuhua$bio_species != \"OTHER\", ]\n",
        "test_bio_tuhua <- rbind(test_bio_tuhua, consolidated_rows)\n",
        "\n",
        "#Sort the dataset by siteID\n",
        "test_bio_tuhua <- test_bio_tuhua[order(test_bio_tuhua$siteID), ]\n",
        "\n",
        "#Reset row names\n",
        "rownames(test_bio_tuhua) <- NULL\n",
        "\n",
        "#Print the final modified dataset\n",
        "print(test_bio_tuhua)\n"
      ],
      "metadata": {
        "id": "Wkq4_piK6gOV"
      },
      "id": "Wkq4_piK6gOV",
      "execution_count": null,
      "outputs": []
    },
    {
      "cell_type": "markdown",
      "source": [
        "### Testing with a cit sci small dataset"
      ],
      "metadata": {
        "id": "c0ksHWFC6nsB"
      },
      "id": "c0ksHWFC6nsB"
    },
    {
      "cell_type": "code",
      "source": [
        "%%R\n",
        "test_citsci_tuhua <- head(\n",
        "  select(citsci_tuhua,\n",
        "         citsci_species, citsci_first_seen, citsci_how_many, siteID), #can add more columns later if wanted\n",
        "  n = 30\n",
        ")\n",
        "\n",
        "#Create the species list\n",
        "species_list <- c(\n",
        "  \"BANDEDWRASSE\", \"BLUEMAOMAO\", \"BLUEMOKI\",\n",
        "  \"BUTTERFLYPERCH\", \"EAGLERAY\", \"GOATFISH\", \"GREENBONEBUTTERFISH\",\n",
        "  \"HIWIHIWI\", \"JACKMACKEREL\",\"KAHAWAI\", \"KINGFISH\", \"KOHERU\",\n",
        "  \"MARBLEFISH\", \"MORAYEEL\", \"PINKMAOMAO\", \"PORAE\", \"REDANDHALFBANDEDPERCHES\",\n",
        "  \"REDMOKI\", \"REDPIGFISH\", \"SANDAGERSWRASSE\", \"SCARLETWRASSE\",\n",
        "  \"SHORTTAILEDSTINGRAY\", \"SILVERSWEEP\", \"SINGLESPOTDEMOISELLE\",\n",
        "  \"SMOOTHLEATHERJACKET\", \"SNAPPER\", \"SPOTTY\", \"TARAKIHI\",\n",
        "  \"TREVALLY\", \"TWOSPOTDEMOISELLE\", \"MARINEMAMMAL\", \"OTHER\"\n",
        ")\n",
        "\n",
        "#Function to add missing species rows for a given siteID\n",
        "add_missing_citsci_species <- function(df, site_id) {\n",
        "  existing_species <- df$citsci_species[df$siteID == site_id]\n",
        "  missing_species <- setdiff(species_list, existing_species)\n",
        "\n",
        "  new_rows <- data.frame(\n",
        "    citsci_species = missing_species,\n",
        "    citsci_first_seen = rep(NA, length(missing_species)),\n",
        "    citsci_how_many = rep(0, length(missing_species)),\n",
        "    siteID = rep(site_id, length(missing_species)),\n",
        "    stringsAsFactors = FALSE\n",
        "  )\n",
        "\n",
        "  df <- rbind(df, new_rows)\n",
        "  return(df)\n",
        "}\n",
        "\n",
        "#Removing rows with \"NOTHINGHERE\" and adding missing species rows\n",
        "test_citsci_tuhua <- test_citsci_tuhua[test_citsci_tuhua$citsci_species != \"NOTHINGHERE\", ]\n",
        "unique_sites <- unique(test_citsci_tuhua$siteID)\n",
        "\n",
        "for (site in unique_sites) {\n",
        "  test_citsci_tuhua <- add_missing_citsci_species(test_citsci_tuhua, site)\n",
        "}\n",
        "\n",
        "#Replace species not in the species list with \"OTHER\"\n",
        "test_citsci_tuhua$citsci_species[!(test_citsci_tuhua$citsci_species %in% species_list)] <- \"OTHER\"\n",
        "\n",
        "#Compile rows with \"OTHER\" species into one row per siteID\n",
        "other_rows <- test_citsci_tuhua[test_citsci_tuhua$citsci_species == \"OTHER\", ]\n",
        "unique_sites <- unique(other_rows$siteID)\n",
        "\n",
        "consolidated_rows <- data.frame(\n",
        "  citsci_species = \"OTHER\",\n",
        "  citsci_first_seen = NA,\n",
        "  citsci_how_many = sapply(unique_sites, function(site) sum(other_rows$citsci_how_many[other_rows$siteID == site])),\n",
        "  siteID = unique_sites,\n",
        "  stringsAsFactors = FALSE\n",
        ")\n",
        "\n",
        "test_citsci_tuhua <- test_citsci_tuhua[test_citsci_tuhua$citsci_species != \"OTHER\", ]\n",
        "test_citsci_tuhua <- rbind(test_citsci_tuhua, consolidated_rows)\n",
        "\n",
        "# Sort the dataset by siteID\n",
        "test_citsci_tuhua <- test_citsci_tuhua[order(test_citsci_tuhua$siteID), ]\n",
        "\n",
        "# Reset row names\n",
        "rownames(test_citsci_tuhua) <- NULL\n",
        "\n",
        "# Print the final modified dataset\n",
        "print(test_citsci_tuhua)"
      ],
      "metadata": {
        "id": "wrspcdKk6rzJ"
      },
      "id": "wrspcdKk6rzJ",
      "execution_count": null,
      "outputs": []
    },
    {
      "cell_type": "markdown",
      "source": [
        "# TE TAPUWAE - cit sci dataset site code problem, leave for now\n",
        "\n",
        "All the below code was written and run before I realised about the site\n",
        "code problem, where the site codes are different in the biologist data\n",
        "compared to the Zooniverse data.\n",
        "\n",
        "# Preparing the datasets\n",
        "\n",
        "The site ID info is in the column SiteID in biologist classifications\n",
        "and the column filename in citizen scientist classifications."
      ],
      "metadata": {
        "id": "hZIFYFJn6yAt"
      },
      "id": "hZIFYFJn6yAt"
    },
    {
      "cell_type": "code",
      "source": [
        "%%R\n",
        "#Create a new column called SiteID in the citizen science dataset\n",
        "citsci_te_tapuwae <- transform(citsci_te_tapuwae,\n",
        "                                SiteID = substr(filename, 1, 7)) #first seven characters of the filename column values\n",
        "\n",
        "\n",
        "#Round MaxN values in biologist dataset\n",
        "bio_te_tapuwae <- bio_te_tapuwae %>%\n",
        "  mutate(TimeOfMaxN = round(as.numeric(TimeOfMaxN)))"
      ],
      "metadata": {
        "id": "PxotRP3o61VJ"
      },
      "id": "PxotRP3o61VJ",
      "execution_count": 13,
      "outputs": []
    },
    {
      "cell_type": "markdown",
      "source": [
        "#Rename columns"
      ],
      "metadata": {
        "id": "-6i6uNLhGoqR"
      },
      "id": "-6i6uNLhGoqR"
    },
    {
      "cell_type": "code",
      "source": [
        "%%R\n",
        "#Citizen science datasets\n",
        "library(dplyr)\n",
        "citsci_te_tapuwae <- citsci_te_tapuwae %>%\n",
        "  rename(\n",
        "    citsci_species = label,\n",
        "    citsci_first_seen = first_seen,\n",
        "    citsci_how_many = how_many\n",
        "  )\n",
        "\n",
        "#Biologist datasets\n",
        "bio_te_tapuwae <- bio_te_tapuwae %>%\n",
        "  rename(\n",
        "    bio_species = COMMONNAME,\n",
        "    bio_first_seen = TimeOfMaxN,\n",
        "    bio_how_many = MaxN\n",
        "  )"
      ],
      "metadata": {
        "id": "GJzb_Jbu65Os"
      },
      "id": "GJzb_Jbu65Os",
      "execution_count": 14,
      "outputs": []
    },
    {
      "cell_type": "markdown",
      "source": [
        "# Adding species absences\n",
        "\n",
        "## Testing with a smaller dataset\n",
        "\n"
      ],
      "metadata": {
        "id": "EvqkR_vA68RU"
      },
      "id": "EvqkR_vA68RU"
    },
    {
      "cell_type": "code",
      "source": [
        "%%R\n",
        "#Rename columns\n",
        "library(dplyr)\n",
        "\n",
        "test_bio_te_tapuwae <- head(\n",
        "  select(bio_te_tapuwae,\n",
        "         bio_species, bio_first_seen, bio_how_many, SiteID),\n",
        "  n = 30\n",
        ")\n",
        "test_bio_te_tapuwae <- test_bio_te_tapuwae[15:25,]"
      ],
      "metadata": {
        "id": "LHkf75Xc6-cr"
      },
      "id": "LHkf75Xc6-cr",
      "execution_count": 15,
      "outputs": []
    },
    {
      "cell_type": "markdown",
      "source": [
        "Below, I specified the Zooniverse species list for Te Tapuwae, and made it so that the species absences are also recorded in the dataset, and that nothing here results in species absences for all the species. Bad deployments are deleted.\n"
      ],
      "metadata": {
        "id": "GpYwI_R97Bjp"
      },
      "id": "GpYwI_R97Bjp"
    },
    {
      "cell_type": "code",
      "source": [
        "%%R\n",
        "#Te Tapuwae o Rongokako species list\n",
        "species_list <- c(\n",
        "  \"BANDEDWRASSE\", \"BLUECOD\", \"BLUEMAOMAO\", \"BLUE MOKI\", \"BROADNOSESEVENGILLSHARK\",\n",
        "  \"BUTTERFLYPERCH\", \"TWOSPOTDEMOISELLE\", \"CONGEREEL\", \"EAGLERAY\", \"HIWIHIWI\",\n",
        "  \"KAHAWAI\", \"MARBLEFISH\", \"MORAYEEL\", \"PORAE\", \"REDANDHALFBANDEDPERCHES\",\n",
        "  \"REDMOKI\", \"ROCKLOBSTER\", \"SCARLETWRASSE\", \"SCHOOLSHARK\", \"SCORPIONFISH\",\n",
        "  \"SHORTTAILEDSTINGRAY\", \"SILVERSWEEP\", \"SMOOTHLEATHERJACKET\", \"SNAPPER\",\n",
        "  \"SPOTTY\", \"TARAKIHI\", \"TREVALLY\", \"MARINEMAMMAL\"\n",
        ")\n",
        "\n",
        "#Function to add missing species rows for a given SiteID (biologist version)\n",
        "add_missing_bio_species <- function(df, site_id) {\n",
        "  existing_species <- df$bio_species[df$SiteID == site_id]\n",
        "  missing_species <- setdiff(species_list, existing_species)\n",
        "\n",
        "  new_rows <- tibble(\n",
        "    bio_species = missing_species,\n",
        "    bio_first_seen = rep(NA, length(missing_species)),\n",
        "    bio_how_many = rep(\"0\", length(missing_species)),\n",
        "    SiteID = rep(site_id, length(missing_species))\n",
        "  )\n",
        "\n",
        "  df <- bind_rows(df, new_rows)\n",
        "  return(df)\n",
        "}\n",
        "\n",
        "#Removing rows with bad deployment\n",
        "test_bio_te_tapuwae <- test_bio_te_tapuwae %>%\n",
        "  filter(bio_species != \"BADDEPLOYMENT\")\n",
        "\n",
        "#Removing rows with \"NOTHINGHERE\" and adding missing species rows\n",
        "test_bio_te_tapuwae <- test_bio_te_tapuwae %>%\n",
        "  filter(bio_species != \"NOTHINGHERE\") %>%\n",
        "  group_by(SiteID) %>%\n",
        "  do(add_missing_bio_species(., unique(.$SiteID))) %>%\n",
        "  ungroup()\n",
        "\n",
        "#Output the updated dataset\n",
        "test_bio_te_tapuwae\n"
      ],
      "metadata": {
        "id": "XvBzLKZm7DWS"
      },
      "id": "XvBzLKZm7DWS",
      "execution_count": null,
      "outputs": []
    },
    {
      "cell_type": "markdown",
      "source": [
        "### Testing with a cit sci small dataset\n",
        "\n"
      ],
      "metadata": {
        "id": "-yg76wmV7GQR"
      },
      "id": "-yg76wmV7GQR"
    },
    {
      "cell_type": "code",
      "source": [
        "%%R\n",
        "#Obtain test dataset (has a NOTHINGHERE in it at the start)\n",
        "test_citsci_te_tapuwae <- head(\n",
        "  select(citsci_te_tapuwae,\n",
        "         citsci_species, citsci_first_seen, citsci_how_many, SiteID),\n",
        "  n = 30\n",
        ")\n",
        "\n",
        "#Function to add missing species rows for a given SiteID (biologist version)\n",
        "add_missing_citsci_species <- function(df, site_id) {\n",
        "  existing_species <- df$citsci_species[df$SiteID == site_id]\n",
        "  missing_species <- setdiff(species_list, existing_species)\n",
        "\n",
        "  new_rows <- tibble(\n",
        "    citsci_species = missing_species,\n",
        "    citsci_first_seen = rep(NA, length(missing_species)),\n",
        "    citsci_how_many = rep(\"0\", length(missing_species)),\n",
        "    SiteID = rep(site_id, length(missing_species))\n",
        "  )\n",
        "\n",
        "  df <- bind_rows(df, new_rows)\n",
        "  return(df)\n",
        "}\n",
        "\n",
        "#Removing rows with bad deployment\n",
        "test_citsci_te_tapuwae <- test_citsci_te_tapuwae %>%\n",
        "  filter(citsci_species != \"BADDEPLOYMENT\")\n",
        "\n",
        "#Removing rows with \"NOTHINGHERE\" and adding missing species rows\n",
        "test_bio_te_tapuwae <- test_bio_te_tapuwae %>%\n",
        "  filter(bio_species != \"NOTHINGHERE\") %>%\n",
        "  group_by(SiteID) %>%\n",
        "  do(add_missing_bio_species(., unique(.$SiteID))) %>%\n",
        "  ungroup()\n",
        "\n",
        "#Output the updated dataset\n",
        "test_bio_te_tapuwae"
      ],
      "metadata": {
        "id": "POK7F3m77Hq9"
      },
      "id": "POK7F3m77Hq9",
      "execution_count": null,
      "outputs": []
    }
  ],
  "nbformat": 4,
  "nbformat_minor": 5,
  "metadata": {
    "colab": {
      "provenance": [],
      "include_colab_link": true
    },
    "kernelspec": {
      "name": "python3",
      "display_name": "Python 3"
    },
    "language_info": {
      "name": "python"
    }
  }
}